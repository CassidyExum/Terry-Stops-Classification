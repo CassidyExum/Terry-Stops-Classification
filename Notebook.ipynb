{
 "cells": [
  {
   "cell_type": "markdown",
   "metadata": {},
   "source": [
    "# Terry Stops Classification\n",
    "\n",
    "Student name: Cassidy Exum\n",
    "\n",
    "Student pace: self paced\n",
    "\n",
    "Scheduled project review date/time: Undetermined\n",
    "\n",
    "Instructor name: Morgan Jones\n",
    "\n",
    "Blog post URL: https://exumexaminesdata.blogspot.com/2022/10/the-chess-cheating-scandal-and-72-page.html\n",
    "\n",
    "## Objective - Create a classification model that can predict whether an arrest was made or not made\n",
    "\n",
    "The data for this project was obtained from the seattle .gov website at the follow link: https://data.seattle.gov/Public-Safety/Terry-Stops/28ny-9ts8\n",
    "\n",
    "The stakeholder is a non-profit organization researching police stop data. "
   ]
  },
  {
   "cell_type": "markdown",
   "metadata": {},
   "source": [
    "Description of problem taken from Flatiron phase 3 dataset github located: https://github.com/learn-co-curriculum/dsc-phase-3-choosing-a-dataset\n",
    "\n",
    "> In Terry v. Ohio, a landmark Supreme Court case in 1967-8, the court found that a police officer was not in violation of the \"unreasonable search and seizure\" clause of the Fourth Amendment, even though he stopped and frisked a couple of suspects only because their behavior was suspicious. Thus was born the notion of \"reasonable suspicion\", according to which an agent of the police may e.g. temporarily detain a person, even in the absence of clearer evidence that would be required for full-blown arrests etc. Terry Stops are stops made of suspicious drivers.\n",
    "\n",
    "> Build a classifier to predict whether an arrest was made after a Terry Stop, given information about the presence of weapons, the time of day of the call, etc. This is a binary classification problem. \n",
    "\n",
    "> Note that this dataset also includes information about gender and race. You may use this data as well. You could conceivably pitch your project as an inquiry into whether race (of officer or of subject) plays a role in whether or not an arrest is made.\n",
    "\n",
    "> If you do elect to make use of race or gender data, be aware that this can make your project a highly sensitive one; your discretion will be important, as well as your transparency about how you use the data and the ethical issues surrounding it."
   ]
  },
  {
   "cell_type": "markdown",
   "metadata": {},
   "source": [
    "Brief idea of how I should do this - \n",
    "1. fix data\n",
    "2. get dummies\n",
    "3. train model (Use Logistic as Baseline model)\n",
    "4. iterate (xgboost/random forest -> GridSearchCV xgboost/random forest)"
   ]
  },
  {
   "cell_type": "markdown",
   "metadata": {},
   "source": [
    "### Phase 1 - Imports and Data exploration\n",
    "Import the data set, explore, clean, preprocess, and reorginize the data. "
   ]
  },
  {
   "cell_type": "code",
   "execution_count": 116,
   "metadata": {},
   "outputs": [],
   "source": [
    "#relevant imports\n",
    "\n",
    "import pandas as pd\n",
    "import numpy as np\n",
    "import matplotlib.pyplot as plt\n",
    "%matplotlib inline\n",
    "\n",
    "# sklearn imports\n",
    "# Model Selection and Preprocessing\n",
    "from sklearn.model_selection import train_test_split, GridSearchCV\n",
    "from sklearn.model_selection import cross_val_score\n",
    "\n",
    "# Metrics\n",
    "from sklearn.metrics import accuracy_score, f1_score, recall_score\n",
    "from sklearn.metrics import classification_report, confusion_matrix\n",
    "from sklearn.metrics import roc_curve, auc\n",
    "\n",
    "# Classifiers\n",
    "from xgboost import XGBClassifier\n",
    "from sklearn.tree import DecisionTreeClassifier\n",
    "from sklearn.ensemble import RandomForestClassifier\n",
    "from sklearn.neighbors import KNeighborsClassifier\n",
    "from sklearn.linear_model import LogisticRegression\n"
   ]
  },
  {
   "cell_type": "code",
   "execution_count": 117,
   "metadata": {},
   "outputs": [
    {
     "data": {
      "text/html": [
       "<div>\n",
       "<style scoped>\n",
       "    .dataframe tbody tr th:only-of-type {\n",
       "        vertical-align: middle;\n",
       "    }\n",
       "\n",
       "    .dataframe tbody tr th {\n",
       "        vertical-align: top;\n",
       "    }\n",
       "\n",
       "    .dataframe thead th {\n",
       "        text-align: right;\n",
       "    }\n",
       "</style>\n",
       "<table border=\"1\" class=\"dataframe\">\n",
       "  <thead>\n",
       "    <tr style=\"text-align: right;\">\n",
       "      <th></th>\n",
       "      <th>Subject Age Group</th>\n",
       "      <th>Subject ID</th>\n",
       "      <th>GO / SC Num</th>\n",
       "      <th>Terry Stop ID</th>\n",
       "      <th>Stop Resolution</th>\n",
       "      <th>Weapon Type</th>\n",
       "      <th>Officer ID</th>\n",
       "      <th>Officer YOB</th>\n",
       "      <th>Officer Gender</th>\n",
       "      <th>Officer Race</th>\n",
       "      <th>...</th>\n",
       "      <th>Reported Time</th>\n",
       "      <th>Initial Call Type</th>\n",
       "      <th>Final Call Type</th>\n",
       "      <th>Call Type</th>\n",
       "      <th>Officer Squad</th>\n",
       "      <th>Arrest Flag</th>\n",
       "      <th>Frisk Flag</th>\n",
       "      <th>Precinct</th>\n",
       "      <th>Sector</th>\n",
       "      <th>Beat</th>\n",
       "    </tr>\n",
       "  </thead>\n",
       "  <tbody>\n",
       "    <tr>\n",
       "      <th>0</th>\n",
       "      <td>-</td>\n",
       "      <td>-8</td>\n",
       "      <td>20220000063036</td>\n",
       "      <td>32023419019</td>\n",
       "      <td>Field Contact</td>\n",
       "      <td>-</td>\n",
       "      <td>6805</td>\n",
       "      <td>1973</td>\n",
       "      <td>M</td>\n",
       "      <td>White</td>\n",
       "      <td>...</td>\n",
       "      <td>09:34:02.0000000</td>\n",
       "      <td>SUSPICIOUS STOP - OFFICER INITIATED ONVIEW</td>\n",
       "      <td>--SUSPICIOUS CIRCUM. - SUSPICIOUS PERSON</td>\n",
       "      <td>ONVIEW</td>\n",
       "      <td>WEST PCT 1ST W - KQ/DM RELIEF</td>\n",
       "      <td>N</td>\n",
       "      <td>Y</td>\n",
       "      <td>West</td>\n",
       "      <td>K</td>\n",
       "      <td>K3</td>\n",
       "    </tr>\n",
       "    <tr>\n",
       "      <th>1</th>\n",
       "      <td>-</td>\n",
       "      <td>-8</td>\n",
       "      <td>20220000233868</td>\n",
       "      <td>35877423282</td>\n",
       "      <td>Field Contact</td>\n",
       "      <td>-</td>\n",
       "      <td>8881</td>\n",
       "      <td>1988</td>\n",
       "      <td>M</td>\n",
       "      <td>Asian</td>\n",
       "      <td>...</td>\n",
       "      <td>19:20:16.0000000</td>\n",
       "      <td>THREATS (INCLS IN-PERSON/BY PHONE/IN WRITING)</td>\n",
       "      <td>--DISTURBANCE - OTHER</td>\n",
       "      <td>911</td>\n",
       "      <td>TRAINING - FIELD TRAINING SQUAD</td>\n",
       "      <td>N</td>\n",
       "      <td>Y</td>\n",
       "      <td>South</td>\n",
       "      <td>O</td>\n",
       "      <td>O1</td>\n",
       "    </tr>\n",
       "    <tr>\n",
       "      <th>2</th>\n",
       "      <td>-</td>\n",
       "      <td>-1</td>\n",
       "      <td>20140000120677</td>\n",
       "      <td>92317</td>\n",
       "      <td>Arrest</td>\n",
       "      <td>None</td>\n",
       "      <td>7500</td>\n",
       "      <td>1984</td>\n",
       "      <td>M</td>\n",
       "      <td>Black or African American</td>\n",
       "      <td>...</td>\n",
       "      <td>11:32:00.0000000</td>\n",
       "      <td>-</td>\n",
       "      <td>-</td>\n",
       "      <td>-</td>\n",
       "      <td>SOUTH PCT 1ST W - ROBERT</td>\n",
       "      <td>N</td>\n",
       "      <td>N</td>\n",
       "      <td>South</td>\n",
       "      <td>O</td>\n",
       "      <td>O2</td>\n",
       "    </tr>\n",
       "    <tr>\n",
       "      <th>3</th>\n",
       "      <td>-</td>\n",
       "      <td>-1</td>\n",
       "      <td>20150000001463</td>\n",
       "      <td>28806</td>\n",
       "      <td>Field Contact</td>\n",
       "      <td>None</td>\n",
       "      <td>5670</td>\n",
       "      <td>1965</td>\n",
       "      <td>M</td>\n",
       "      <td>White</td>\n",
       "      <td>...</td>\n",
       "      <td>07:59:00.0000000</td>\n",
       "      <td>-</td>\n",
       "      <td>-</td>\n",
       "      <td>-</td>\n",
       "      <td>NaN</td>\n",
       "      <td>N</td>\n",
       "      <td>N</td>\n",
       "      <td>-</td>\n",
       "      <td>-</td>\n",
       "      <td>-</td>\n",
       "    </tr>\n",
       "    <tr>\n",
       "      <th>4</th>\n",
       "      <td>-</td>\n",
       "      <td>-1</td>\n",
       "      <td>20150000001516</td>\n",
       "      <td>29599</td>\n",
       "      <td>Field Contact</td>\n",
       "      <td>None</td>\n",
       "      <td>4844</td>\n",
       "      <td>1961</td>\n",
       "      <td>M</td>\n",
       "      <td>White</td>\n",
       "      <td>...</td>\n",
       "      <td>19:12:00.0000000</td>\n",
       "      <td>-</td>\n",
       "      <td>-</td>\n",
       "      <td>-</td>\n",
       "      <td>NaN</td>\n",
       "      <td>N</td>\n",
       "      <td>-</td>\n",
       "      <td>-</td>\n",
       "      <td>-</td>\n",
       "      <td>-</td>\n",
       "    </tr>\n",
       "  </tbody>\n",
       "</table>\n",
       "<p>5 rows × 23 columns</p>\n",
       "</div>"
      ],
      "text/plain": [
       "  Subject Age Group  Subject ID     GO / SC Num  Terry Stop ID  \\\n",
       "0                 -          -8  20220000063036    32023419019   \n",
       "1                 -          -8  20220000233868    35877423282   \n",
       "2                 -          -1  20140000120677          92317   \n",
       "3                 -          -1  20150000001463          28806   \n",
       "4                 -          -1  20150000001516          29599   \n",
       "\n",
       "  Stop Resolution Weapon Type Officer ID  Officer YOB Officer Gender  \\\n",
       "0   Field Contact           -       6805         1973              M   \n",
       "1   Field Contact           -       8881         1988              M   \n",
       "2          Arrest        None       7500         1984              M   \n",
       "3   Field Contact        None       5670         1965              M   \n",
       "4   Field Contact        None       4844         1961              M   \n",
       "\n",
       "                Officer Race  ...     Reported Time  \\\n",
       "0                      White  ...  09:34:02.0000000   \n",
       "1                      Asian  ...  19:20:16.0000000   \n",
       "2  Black or African American  ...  11:32:00.0000000   \n",
       "3                      White  ...  07:59:00.0000000   \n",
       "4                      White  ...  19:12:00.0000000   \n",
       "\n",
       "                               Initial Call Type  \\\n",
       "0     SUSPICIOUS STOP - OFFICER INITIATED ONVIEW   \n",
       "1  THREATS (INCLS IN-PERSON/BY PHONE/IN WRITING)   \n",
       "2                                              -   \n",
       "3                                              -   \n",
       "4                                              -   \n",
       "\n",
       "                            Final Call Type Call Type  \\\n",
       "0  --SUSPICIOUS CIRCUM. - SUSPICIOUS PERSON    ONVIEW   \n",
       "1                     --DISTURBANCE - OTHER       911   \n",
       "2                                         -         -   \n",
       "3                                         -         -   \n",
       "4                                         -         -   \n",
       "\n",
       "                     Officer Squad Arrest Flag Frisk Flag Precinct Sector Beat  \n",
       "0    WEST PCT 1ST W - KQ/DM RELIEF           N          Y     West      K   K3  \n",
       "1  TRAINING - FIELD TRAINING SQUAD           N          Y    South      O   O1  \n",
       "2         SOUTH PCT 1ST W - ROBERT           N          N    South      O   O2  \n",
       "3                              NaN           N          N        -      -    -  \n",
       "4                              NaN           N          -        -      -    -  \n",
       "\n",
       "[5 rows x 23 columns]"
      ]
     },
     "execution_count": 117,
     "metadata": {},
     "output_type": "execute_result"
    }
   ],
   "source": [
    "#import data and print head\n",
    "\n",
    "df = pd.read_csv('terry_stops.csv')\n",
    "df.head()"
   ]
  },
  {
   "cell_type": "markdown",
   "metadata": {},
   "source": [
    "Preliminary thoughts\n",
    "\n",
    "There are a few ID type columns I don't need such as Subject ID, GO/ SC Num , Terry Stop ID.\n",
    "\n",
    "There are a few officer specific columns which may or may not be useful such as Officer ID, YOB, officer squad\n",
    "\n",
    "Target = Stop Resolution"
   ]
  },
  {
   "cell_type": "code",
   "execution_count": 118,
   "metadata": {},
   "outputs": [
    {
     "name": "stdout",
     "output_type": "stream",
     "text": [
      "<class 'pandas.core.frame.DataFrame'>\n",
      "RangeIndex: 53654 entries, 0 to 53653\n",
      "Data columns (total 23 columns):\n",
      " #   Column                    Non-Null Count  Dtype \n",
      "---  ------                    --------------  ----- \n",
      " 0   Subject Age Group         53654 non-null  object\n",
      " 1   Subject ID                53654 non-null  int64 \n",
      " 2   GO / SC Num               53654 non-null  int64 \n",
      " 3   Terry Stop ID             53654 non-null  int64 \n",
      " 4   Stop Resolution           53654 non-null  object\n",
      " 5   Weapon Type               53654 non-null  object\n",
      " 6   Officer ID                53654 non-null  object\n",
      " 7   Officer YOB               53654 non-null  int64 \n",
      " 8   Officer Gender            53654 non-null  object\n",
      " 9   Officer Race              53654 non-null  object\n",
      " 10  Subject Perceived Race    53654 non-null  object\n",
      " 11  Subject Perceived Gender  53654 non-null  object\n",
      " 12  Reported Date             53654 non-null  object\n",
      " 13  Reported Time             53654 non-null  object\n",
      " 14  Initial Call Type         53654 non-null  object\n",
      " 15  Final Call Type           53654 non-null  object\n",
      " 16  Call Type                 53654 non-null  object\n",
      " 17  Officer Squad             53165 non-null  object\n",
      " 18  Arrest Flag               53654 non-null  object\n",
      " 19  Frisk Flag                53654 non-null  object\n",
      " 20  Precinct                  53654 non-null  object\n",
      " 21  Sector                    53654 non-null  object\n",
      " 22  Beat                      53654 non-null  object\n",
      "dtypes: int64(4), object(19)\n",
      "memory usage: 9.4+ MB\n"
     ]
    }
   ],
   "source": [
    "#check entire dataset\n",
    "df.info()"
   ]
  },
  {
   "cell_type": "code",
   "execution_count": 119,
   "metadata": {},
   "outputs": [],
   "source": [
    "# Create Month and Weak features from Reported Date\n",
    "df['Reported Date'] = pd.to_datetime(df['Reported Date'])\n",
    "df['Month'] = df['Reported Date'].apply(lambda x: x.month)"
   ]
  },
  {
   "cell_type": "code",
   "execution_count": 120,
   "metadata": {},
   "outputs": [],
   "source": [
    "#Create a function to map the day to a week 1-4. Create new feature, week of the month.\n",
    "def week_map(x):\n",
    "    if x.day<=7:\n",
    "        return 1\n",
    "    elif x.day<=14:\n",
    "        return 2\n",
    "    elif x.day<=21:\n",
    "        return 3\n",
    "    else:\n",
    "        return 4\n",
    "\n",
    "df['Week'] = df['Reported Date'].apply(week_map)"
   ]
  },
  {
   "cell_type": "code",
   "execution_count": 121,
   "metadata": {},
   "outputs": [],
   "source": [
    "# Convert Reported Time to binary night or day\n",
    "df['day/night'] = df['Reported Time'].apply(lambda x: 'night' if '00:00' <= x <= '05:00' or '19:00' <= x <= '23:00' else 'day')"
   ]
  },
  {
   "cell_type": "code",
   "execution_count": 122,
   "metadata": {},
   "outputs": [
    {
     "data": {
      "text/html": [
       "<div>\n",
       "<style scoped>\n",
       "    .dataframe tbody tr th:only-of-type {\n",
       "        vertical-align: middle;\n",
       "    }\n",
       "\n",
       "    .dataframe tbody tr th {\n",
       "        vertical-align: top;\n",
       "    }\n",
       "\n",
       "    .dataframe thead th {\n",
       "        text-align: right;\n",
       "    }\n",
       "</style>\n",
       "<table border=\"1\" class=\"dataframe\">\n",
       "  <thead>\n",
       "    <tr style=\"text-align: right;\">\n",
       "      <th></th>\n",
       "      <th>Subject Age Group</th>\n",
       "      <th>Stop Resolution</th>\n",
       "      <th>Weapon Type</th>\n",
       "      <th>Officer YOB</th>\n",
       "      <th>Officer Gender</th>\n",
       "      <th>Officer Race</th>\n",
       "      <th>Subject Perceived Race</th>\n",
       "      <th>Subject Perceived Gender</th>\n",
       "      <th>Reported Date</th>\n",
       "      <th>Call Type</th>\n",
       "      <th>Arrest Flag</th>\n",
       "      <th>Frisk Flag</th>\n",
       "      <th>Precinct</th>\n",
       "      <th>Sector</th>\n",
       "      <th>Beat</th>\n",
       "      <th>Month</th>\n",
       "      <th>Week</th>\n",
       "      <th>day/night</th>\n",
       "    </tr>\n",
       "  </thead>\n",
       "  <tbody>\n",
       "    <tr>\n",
       "      <th>0</th>\n",
       "      <td>-</td>\n",
       "      <td>Field Contact</td>\n",
       "      <td>-</td>\n",
       "      <td>1973</td>\n",
       "      <td>M</td>\n",
       "      <td>White</td>\n",
       "      <td>DUPLICATE</td>\n",
       "      <td>DUPLICATE</td>\n",
       "      <td>2022-03-14 00:00:00+00:00</td>\n",
       "      <td>ONVIEW</td>\n",
       "      <td>N</td>\n",
       "      <td>Y</td>\n",
       "      <td>West</td>\n",
       "      <td>K</td>\n",
       "      <td>K3</td>\n",
       "      <td>3</td>\n",
       "      <td>2</td>\n",
       "      <td>day</td>\n",
       "    </tr>\n",
       "    <tr>\n",
       "      <th>1</th>\n",
       "      <td>-</td>\n",
       "      <td>Field Contact</td>\n",
       "      <td>-</td>\n",
       "      <td>1988</td>\n",
       "      <td>M</td>\n",
       "      <td>Asian</td>\n",
       "      <td>DUPLICATE</td>\n",
       "      <td>DUPLICATE</td>\n",
       "      <td>2022-09-02 00:00:00+00:00</td>\n",
       "      <td>911</td>\n",
       "      <td>N</td>\n",
       "      <td>Y</td>\n",
       "      <td>South</td>\n",
       "      <td>O</td>\n",
       "      <td>O1</td>\n",
       "      <td>9</td>\n",
       "      <td>1</td>\n",
       "      <td>night</td>\n",
       "    </tr>\n",
       "    <tr>\n",
       "      <th>2</th>\n",
       "      <td>-</td>\n",
       "      <td>Arrest</td>\n",
       "      <td>None</td>\n",
       "      <td>1984</td>\n",
       "      <td>M</td>\n",
       "      <td>Black or African American</td>\n",
       "      <td>Asian</td>\n",
       "      <td>Male</td>\n",
       "      <td>2015-10-16 00:00:00+00:00</td>\n",
       "      <td>-</td>\n",
       "      <td>N</td>\n",
       "      <td>N</td>\n",
       "      <td>South</td>\n",
       "      <td>O</td>\n",
       "      <td>O2</td>\n",
       "      <td>10</td>\n",
       "      <td>3</td>\n",
       "      <td>day</td>\n",
       "    </tr>\n",
       "    <tr>\n",
       "      <th>3</th>\n",
       "      <td>-</td>\n",
       "      <td>Field Contact</td>\n",
       "      <td>None</td>\n",
       "      <td>1965</td>\n",
       "      <td>M</td>\n",
       "      <td>White</td>\n",
       "      <td>-</td>\n",
       "      <td>-</td>\n",
       "      <td>2015-03-19 00:00:00+00:00</td>\n",
       "      <td>-</td>\n",
       "      <td>N</td>\n",
       "      <td>N</td>\n",
       "      <td>-</td>\n",
       "      <td>-</td>\n",
       "      <td>-</td>\n",
       "      <td>3</td>\n",
       "      <td>3</td>\n",
       "      <td>day</td>\n",
       "    </tr>\n",
       "    <tr>\n",
       "      <th>4</th>\n",
       "      <td>-</td>\n",
       "      <td>Field Contact</td>\n",
       "      <td>None</td>\n",
       "      <td>1961</td>\n",
       "      <td>M</td>\n",
       "      <td>White</td>\n",
       "      <td>White</td>\n",
       "      <td>Male</td>\n",
       "      <td>2015-03-21 00:00:00+00:00</td>\n",
       "      <td>-</td>\n",
       "      <td>N</td>\n",
       "      <td>-</td>\n",
       "      <td>-</td>\n",
       "      <td>-</td>\n",
       "      <td>-</td>\n",
       "      <td>3</td>\n",
       "      <td>3</td>\n",
       "      <td>night</td>\n",
       "    </tr>\n",
       "  </tbody>\n",
       "</table>\n",
       "</div>"
      ],
      "text/plain": [
       "  Subject Age Group Stop Resolution Weapon Type  Officer YOB Officer Gender  \\\n",
       "0                 -   Field Contact           -         1973              M   \n",
       "1                 -   Field Contact           -         1988              M   \n",
       "2                 -          Arrest        None         1984              M   \n",
       "3                 -   Field Contact        None         1965              M   \n",
       "4                 -   Field Contact        None         1961              M   \n",
       "\n",
       "                Officer Race Subject Perceived Race Subject Perceived Gender  \\\n",
       "0                      White              DUPLICATE                DUPLICATE   \n",
       "1                      Asian              DUPLICATE                DUPLICATE   \n",
       "2  Black or African American                  Asian                     Male   \n",
       "3                      White                      -                        -   \n",
       "4                      White                  White                     Male   \n",
       "\n",
       "              Reported Date Call Type Arrest Flag Frisk Flag Precinct Sector  \\\n",
       "0 2022-03-14 00:00:00+00:00    ONVIEW           N          Y     West      K   \n",
       "1 2022-09-02 00:00:00+00:00       911           N          Y    South      O   \n",
       "2 2015-10-16 00:00:00+00:00         -           N          N    South      O   \n",
       "3 2015-03-19 00:00:00+00:00         -           N          N        -      -   \n",
       "4 2015-03-21 00:00:00+00:00         -           N          -        -      -   \n",
       "\n",
       "  Beat  Month  Week day/night  \n",
       "0   K3      3     2       day  \n",
       "1   O1      9     1     night  \n",
       "2   O2     10     3       day  \n",
       "3    -      3     3       day  \n",
       "4    -      3     3     night  "
      ]
     },
     "execution_count": 122,
     "metadata": {},
     "output_type": "execute_result"
    }
   ],
   "source": [
    "# ID columns, overlapping columns, and anything else\n",
    "to_drop = ['Subject ID', \n",
    "           'GO / SC Num', \n",
    "           'Terry Stop ID', \n",
    "           'Officer ID',    \n",
    "           'Reported Time',\n",
    "           'Initial Call Type',\n",
    "           'Final Call Type',\n",
    "           'Officer Squad']\n",
    "df.drop(to_drop, axis=1, inplace=True)\n",
    "df.head()"
   ]
  },
  {
   "cell_type": "code",
   "execution_count": 123,
   "metadata": {},
   "outputs": [
    {
     "data": {
      "text/plain": [
       "Field Contact               23006\n",
       "Offense Report              16599\n",
       "Arrest                      13131\n",
       "Referred for Prosecution      728\n",
       "Citation / Infraction         190\n",
       "Name: Stop Resolution, dtype: int64"
      ]
     },
     "execution_count": 123,
     "metadata": {},
     "output_type": "execute_result"
    }
   ],
   "source": [
    "#check target variable\n",
    "df['Stop Resolution'].value_counts()"
   ]
  },
  {
   "cell_type": "markdown",
   "metadata": {},
   "source": [
    "I can reorganize this column to only be 'Arrest' and 'No Arrest' or 1 and 0."
   ]
  },
  {
   "cell_type": "code",
   "execution_count": 124,
   "metadata": {},
   "outputs": [
    {
     "data": {
      "text/plain": [
       "0    40523\n",
       "1    13131\n",
       "Name: Stop Resolution, dtype: int64"
      ]
     },
     "execution_count": 124,
     "metadata": {},
     "output_type": "execute_result"
    }
   ],
   "source": [
    "# Change everything other than Arrest to 0, and Arrest to 1\n",
    "df.loc[ df['Stop Resolution'] != 'Arrest', 'Stop Resolution'] = 0\n",
    "df.loc[ df['Stop Resolution'] == 'Arrest', 'Stop Resolution'] = 1\n",
    "df['Stop Resolution'].value_counts()"
   ]
  },
  {
   "cell_type": "code",
   "execution_count": 125,
   "metadata": {},
   "outputs": [],
   "source": [
    "# Set type\n",
    "df['Stop Resolution'] = df['Stop Resolution'].astype('int64')"
   ]
  },
  {
   "cell_type": "code",
   "execution_count": 126,
   "metadata": {},
   "outputs": [
    {
     "data": {
      "text/plain": [
       "911                              24803\n",
       "-                                13514\n",
       "ONVIEW                           11184\n",
       "TELEPHONE OTHER, NOT 911          3685\n",
       "ALARM CALL (NOT POLICE ALARM)      446\n",
       "TEXT MESSAGE                        21\n",
       "SCHEDULED EVENT (RECURRING)          1\n",
       "Name: Call Type, dtype: int64"
      ]
     },
     "execution_count": 126,
     "metadata": {},
     "output_type": "execute_result"
    }
   ],
   "source": [
    "#Check Call Type\n",
    "df['Call Type'].value_counts()"
   ]
  },
  {
   "cell_type": "code",
   "execution_count": 127,
   "metadata": {},
   "outputs": [
    {
     "data": {
      "text/plain": [
       "West         14070\n",
       "North        11699\n",
       "-            10240\n",
       "East          6904\n",
       "South         6363\n",
       "Southwest     2320\n",
       "SouthWest     1775\n",
       "Unknown        200\n",
       "OOJ             61\n",
       "FK ERROR        22\n",
       "Name: Precinct, dtype: int64"
      ]
     },
     "execution_count": 127,
     "metadata": {},
     "output_type": "execute_result"
    }
   ],
   "source": [
    "#Check Precinct column\n",
    "df['Precinct'].value_counts()"
   ]
  },
  {
   "cell_type": "code",
   "execution_count": 128,
   "metadata": {},
   "outputs": [],
   "source": [
    "# Impute - as unknown some values\n",
    "# Impute FK Error as Unknown\n",
    "# Fix Southwest\n",
    "df.loc[ df['Precinct'] == '-', 'Precinct'] = 'Unknown'\n",
    "df.loc[ df['Precinct'] == 'FK ERROR', 'Precinct'] = 'Unknown'\n",
    "df.loc[ df['Precinct'] == 'SouthWest', 'Precinct'] = 'Southwest'"
   ]
  },
  {
   "cell_type": "code",
   "execution_count": 129,
   "metadata": {},
   "outputs": [
    {
     "data": {
      "text/plain": [
       "-     10477\n",
       "K      4411\n",
       "M      4369\n",
       "E      3589\n",
       "N      3219\n",
       "D      3094\n",
       "B      2524\n",
       "F      2487\n",
       "R      2353\n",
       "L      2335\n",
       "Q      2192\n",
       "O      2031\n",
       "S      1980\n",
       "U      1963\n",
       "G      1742\n",
       "J      1657\n",
       "W      1606\n",
       "C      1572\n",
       "99       53\n",
       "Name: Sector, dtype: int64"
      ]
     },
     "execution_count": 129,
     "metadata": {},
     "output_type": "execute_result"
    }
   ],
   "source": [
    "#Check sector column\n",
    "df['Sector'].value_counts()"
   ]
  },
  {
   "cell_type": "code",
   "execution_count": 130,
   "metadata": {},
   "outputs": [],
   "source": [
    "# impute 99 to be -\n",
    "df.loc[ df['Sector'] == '99', 'Sector'] = '-'"
   ]
  },
  {
   "cell_type": "code",
   "execution_count": 131,
   "metadata": {},
   "outputs": [
    {
     "data": {
      "text/plain": [
       "-      10385\n",
       "K3      2374\n",
       "M3      1950\n",
       "N3      1608\n",
       "E2      1529\n",
       "M2      1215\n",
       "M1      1207\n",
       "D1      1202\n",
       "N2      1187\n",
       "D2      1166\n",
       "E1      1153\n",
       "K2      1100\n",
       "R2      1076\n",
       "Q3      1045\n",
       "F2      1017\n",
       "B1       941\n",
       "K1       937\n",
       "B2       934\n",
       "U2       922\n",
       "E3       906\n",
       "O1       844\n",
       "L2       798\n",
       "L1       790\n",
       "S2       788\n",
       "F3       756\n",
       "L3       747\n",
       "D3       726\n",
       "F1       714\n",
       "R1       697\n",
       "W2       680\n",
       "U1       662\n",
       "Q2       658\n",
       "S3       657\n",
       "B3       651\n",
       "G2       640\n",
       "J3       631\n",
       "O3       626\n",
       "C1       618\n",
       "J1       612\n",
       "G3       607\n",
       "R3       580\n",
       "O2       561\n",
       "C3       553\n",
       "W1       537\n",
       "S1       535\n",
       "G1       494\n",
       "Q1       489\n",
       "N1       423\n",
       "J2       414\n",
       "C2       402\n",
       "W3       390\n",
       "U3       379\n",
       "99       100\n",
       "OOJ       39\n",
       "S          2\n",
       "Name: Beat, dtype: int64"
      ]
     },
     "execution_count": 131,
     "metadata": {},
     "output_type": "execute_result"
    }
   ],
   "source": [
    "#Check Beat Column\n",
    "df['Beat'].value_counts()"
   ]
  },
  {
   "cell_type": "code",
   "execution_count": 132,
   "metadata": {},
   "outputs": [],
   "source": [
    "# impute 99 as -\n",
    "df.loc[ df['Beat'] == '99', 'Beat'] = '-'"
   ]
  },
  {
   "cell_type": "code",
   "execution_count": 133,
   "metadata": {},
   "outputs": [
    {
     "data": {
      "text/plain": [
       "White                                        26320\n",
       "Black or African American                    15936\n",
       "Unknown                                       3526\n",
       "-                                             1810\n",
       "Asian                                         1803\n",
       "Hispanic                                      1684\n",
       "American Indian or Alaska Native              1514\n",
       "Multi-Racial                                   809\n",
       "Other                                          152\n",
       "Native Hawaiian or Other Pacific Islander       98\n",
       "DUPLICATE                                        2\n",
       "Name: Subject Perceived Race, dtype: int64"
      ]
     },
     "execution_count": 133,
     "metadata": {},
     "output_type": "execute_result"
    }
   ],
   "source": [
    "# Check the column\n",
    "df['Subject Perceived Race'].value_counts()"
   ]
  },
  {
   "cell_type": "code",
   "execution_count": 134,
   "metadata": {},
   "outputs": [],
   "source": [
    "# drop DUPLICATE and impute - as Unknown\n",
    "df = df[df['Subject Perceived Race'] != 'DUPLICATE']"
   ]
  },
  {
   "cell_type": "code",
   "execution_count": 135,
   "metadata": {},
   "outputs": [
    {
     "data": {
      "text/plain": [
       "White                                        26320\n",
       "Black or African American                    15936\n",
       "Unknown                                       5336\n",
       "Asian                                         1803\n",
       "Hispanic                                      1684\n",
       "American Indian or Alaska Native              1514\n",
       "Multi-Racial                                   809\n",
       "Other                                          152\n",
       "Native Hawaiian or Other Pacific Islander       98\n",
       "Name: Subject Perceived Race, dtype: int64"
      ]
     },
     "execution_count": 135,
     "metadata": {},
     "output_type": "execute_result"
    }
   ],
   "source": [
    "# Impute - as unknown\n",
    "df.loc[ df['Subject Perceived Race'] == '-', 'Subject Perceived Race'] = 'Unknown'\n",
    "df['Subject Perceived Race'].value_counts()"
   ]
  },
  {
   "cell_type": "code",
   "execution_count": 136,
   "metadata": {},
   "outputs": [
    {
     "data": {
      "text/plain": [
       "Male                                                         42251\n",
       "Female                                                       10749\n",
       "Unable to Determine                                            326\n",
       "-                                                              239\n",
       "Unknown                                                         67\n",
       "Gender Diverse (gender non-conforming and/or transgender)       20\n",
       "Name: Subject Perceived Gender, dtype: int64"
      ]
     },
     "execution_count": 136,
     "metadata": {},
     "output_type": "execute_result"
    }
   ],
   "source": [
    "#Check counts of subject gender\n",
    "df['Subject Perceived Gender'].value_counts()"
   ]
  },
  {
   "cell_type": "code",
   "execution_count": 137,
   "metadata": {},
   "outputs": [
    {
     "data": {
      "text/plain": [
       "Male                                                         42251\n",
       "Female                                                       10749\n",
       "Unknown                                                        632\n",
       "Gender Diverse (gender non-conforming and/or transgender)       20\n",
       "Name: Subject Perceived Gender, dtype: int64"
      ]
     },
     "execution_count": 137,
     "metadata": {},
     "output_type": "execute_result"
    }
   ],
   "source": [
    "#impute - and Unable to Determine as Unknown\n",
    "df.loc[ df['Subject Perceived Gender'] == '-', 'Subject Perceived Gender'] = 'Unknown'\n",
    "df.loc[ df['Subject Perceived Gender'] == 'Unable to Determine', 'Subject Perceived Gender'] = 'Unknown'\n",
    "df['Subject Perceived Gender'].value_counts()"
   ]
  },
  {
   "cell_type": "code",
   "execution_count": 138,
   "metadata": {},
   "outputs": [
    {
     "data": {
      "text/plain": [
       "None                                    32565\n",
       "-                                       17798\n",
       "Lethal Cutting Instrument                1482\n",
       "Knife/Cutting/Stabbing Instrument         967\n",
       "Handgun                                   342\n",
       "Blunt Object/Striking Implement           125\n",
       "Firearm Other                             100\n",
       "Firearm                                    63\n",
       "Club, Blackjack, Brass Knuckles            49\n",
       "Mace/Pepper Spray                          44\n",
       "Other Firearm                              41\n",
       "Firearm (unk type)                         15\n",
       "Taser/Stun Gun                             13\n",
       "Fire/Incendiary Device                     11\n",
       "None/Not Applicable                        10\n",
       "Club                                        9\n",
       "Rifle                                       8\n",
       "Shotgun                                     4\n",
       "Personal Weapons (hands, feet, etc.)        2\n",
       "Automatic Handgun                           2\n",
       "Brass Knuckles                              1\n",
       "Blackjack                                   1\n",
       "Name: Weapon Type, dtype: int64"
      ]
     },
     "execution_count": 138,
     "metadata": {},
     "output_type": "execute_result"
    }
   ],
   "source": [
    "#check weapon type column\n",
    "df['Weapon Type'].value_counts()"
   ]
  },
  {
   "cell_type": "code",
   "execution_count": 139,
   "metadata": {},
   "outputs": [
    {
     "data": {
      "text/plain": [
       "None                                    50363\n",
       "Lethal Cutting Instrument                1482\n",
       "Knife/Cutting/Stabbing Instrument         967\n",
       "Handgun                                   342\n",
       "Blunt Object/Striking Implement           125\n",
       "Firearm Other                             100\n",
       "Firearm                                    63\n",
       "Club, Blackjack, Brass Knuckles            49\n",
       "Mace/Pepper Spray                          44\n",
       "Other Firearm                              41\n",
       "Firearm (unk type)                         15\n",
       "Taser/Stun Gun                             13\n",
       "Fire/Incendiary Device                     11\n",
       "None/Not Applicable                        10\n",
       "Club                                        9\n",
       "Rifle                                       8\n",
       "Shotgun                                     4\n",
       "Personal Weapons (hands, feet, etc.)        2\n",
       "Automatic Handgun                           2\n",
       "Brass Knuckles                              1\n",
       "Blackjack                                   1\n",
       "Name: Weapon Type, dtype: int64"
      ]
     },
     "execution_count": 139,
     "metadata": {},
     "output_type": "execute_result"
    }
   ],
   "source": [
    "# Impute - as None\n",
    "df.loc[ df['Weapon Type'] == '-', 'Weapon Type'] = 'None'\n",
    "df['Weapon Type'].value_counts()"
   ]
  },
  {
   "cell_type": "code",
   "execution_count": 140,
   "metadata": {},
   "outputs": [],
   "source": [
    "# Simplify Weapon Type Further\n",
    "# Organize into Blunt Weapons, Sharp Weapons, Firearms\n",
    "#Firearms\n",
    "df.loc[ df['Weapon Type'] == 'None/Not Applicable', 'Weapon Type'] = 'None'\n",
    "df.loc[ df['Weapon Type'] == 'Handgun', 'Weapon Type'] = 'Firearm'\n",
    "df.loc[ df['Weapon Type'] == 'Firearm Other', 'Weapon Type'] = 'Firearm'\n",
    "df.loc[ df['Weapon Type'] == 'Other Firearm', 'Weapon Type'] = 'Firearm'\n",
    "df.loc[ df['Weapon Type'] == 'Firearm (unk type)', 'Weapon Type'] = 'Firearm'\n",
    "df.loc[ df['Weapon Type'] == 'Rifle', 'Weapon Type'] = 'Firearm'\n",
    "df.loc[ df['Weapon Type'] == 'Shotgun', 'Weapon Type'] = 'Firearm'\n",
    "df.loc[ df['Weapon Type'] == 'Automatic Handgun', 'Weapon Type'] = 'Firearm'\n",
    "\n",
    "# Blunt Object/Striking Implement \n",
    "df.loc[ df['Weapon Type'] == 'Blackjack', 'Weapon Type'] = 'Blunt Object/Striking Implement'\n",
    "df.loc[ df['Weapon Type'] == 'Brass Knuckles', 'Weapon Type'] = 'Blunt Object/Striking Implement'\n",
    "df.loc[ df['Weapon Type'] == 'Club', 'Weapon Type'] = 'Blunt Object/Striking Implement'\n",
    "df.loc[ df['Weapon Type'] == 'Club, Blackjack, Brass Knuckles', 'Weapon Type'] = 'Blunt Object/Striking Implement'\n",
    "df.loc[ df['Weapon Type'] == 'Personal Weapons (hands, feet, etc.)', 'Weapon Type'] = 'Blunt Object/Striking Implement'\n",
    "\n",
    "#knifes\n",
    "df.loc[ df['Weapon Type'] == 'Knife/Cutting/Stabbing Instrument', 'Weapon Type'] = 'Lethal Cutting Instrument'\n",
    "\n",
    "#Other\n",
    "df.loc[ df['Weapon Type'] == 'Mace/Pepper Spray', 'Weapon Type'] = 'Other'\n",
    "df.loc[ df['Weapon Type'] == 'Taser/Stun Gun', 'Weapon Type'] = 'Other'\n",
    "df.loc[ df['Weapon Type'] == 'Fire/Incendiary Device', 'Weapon Type'] = 'Other'\n",
    "\n"
   ]
  },
  {
   "cell_type": "code",
   "execution_count": 141,
   "metadata": {},
   "outputs": [
    {
     "data": {
      "text/plain": [
       "None                               50373\n",
       "Lethal Cutting Instrument           2449\n",
       "Firearm                              575\n",
       "Blunt Object/Striking Implement      187\n",
       "Other                                 68\n",
       "Name: Weapon Type, dtype: int64"
      ]
     },
     "execution_count": 141,
     "metadata": {},
     "output_type": "execute_result"
    }
   ],
   "source": [
    "#check weapon type\n",
    "df['Weapon Type'].value_counts()"
   ]
  },
  {
   "cell_type": "code",
   "execution_count": 142,
   "metadata": {},
   "outputs": [
    {
     "data": {
      "text/plain": [
       "M    47514\n",
       "F     6108\n",
       "N       30\n",
       "Name: Officer Gender, dtype: int64"
      ]
     },
     "execution_count": 142,
     "metadata": {},
     "output_type": "execute_result"
    }
   ],
   "source": [
    "# Check officer gender\n",
    "df['Officer Gender'].value_counts()"
   ]
  },
  {
   "cell_type": "code",
   "execution_count": 143,
   "metadata": {},
   "outputs": [
    {
     "data": {
      "text/plain": [
       "1986    3690\n",
       "1987    3422\n",
       "1991    2979\n",
       "1984    2921\n",
       "1992    2854\n",
       "1990    2688\n",
       "1985    2600\n",
       "1988    2395\n",
       "1989    2272\n",
       "1982    1946\n",
       "1983    1866\n",
       "1993    1776\n",
       "1995    1716\n",
       "1979    1715\n",
       "1981    1591\n",
       "1994    1346\n",
       "1971    1272\n",
       "1976    1246\n",
       "1978    1221\n",
       "1977    1101\n",
       "1973    1004\n",
       "1996     962\n",
       "1980     935\n",
       "1967     792\n",
       "1997     746\n",
       "1970     670\n",
       "1968     664\n",
       "1969     590\n",
       "1975     579\n",
       "1974     579\n",
       "1962     463\n",
       "1964     459\n",
       "1972     449\n",
       "1965     424\n",
       "1963     265\n",
       "1966     235\n",
       "1961     234\n",
       "1958     222\n",
       "1959     174\n",
       "1960     161\n",
       "1998     123\n",
       "1900      69\n",
       "1954      44\n",
       "1957      43\n",
       "1953      35\n",
       "1999      25\n",
       "2000      23\n",
       "1955      21\n",
       "1956      17\n",
       "1948      11\n",
       "1952       9\n",
       "1949       5\n",
       "1946       2\n",
       "1951       1\n",
       "Name: Officer YOB, dtype: int64"
      ]
     },
     "execution_count": 143,
     "metadata": {},
     "output_type": "execute_result"
    }
   ],
   "source": [
    "# Check officer YOB\n",
    "df['Officer YOB'].value_counts()"
   ]
  },
  {
   "cell_type": "code",
   "execution_count": 144,
   "metadata": {},
   "outputs": [
    {
     "data": {
      "text/plain": [
       "2        1984\n",
       "3        1965\n",
       "4        1961\n",
       "5        1963\n",
       "6        1977\n",
       "         ... \n",
       "53649    1977\n",
       "53650    1996\n",
       "53651    1973\n",
       "53652    1978\n",
       "53653    1995\n",
       "Name: Officer YOB, Length: 53652, dtype: int64"
      ]
     },
     "execution_count": 144,
     "metadata": {},
     "output_type": "execute_result"
    }
   ],
   "source": [
    "#yob as type int\n",
    "df['Officer YOB'].astype('int64')"
   ]
  },
  {
   "cell_type": "code",
   "execution_count": 145,
   "metadata": {},
   "outputs": [],
   "source": [
    "#drop people born in 1900, 122 year olds arent still officers\n",
    "df = df[df['Officer YOB'] != 1900]\n",
    "\n",
    "# turn YOB to age\n",
    "df['Officer Age Group'] = df['Officer YOB'].apply(\n",
    "    lambda x: 2022-x)"
   ]
  },
  {
   "cell_type": "code",
   "execution_count": 146,
   "metadata": {},
   "outputs": [],
   "source": [
    "# Map age to age brackets\n",
    "def map_age(x):\n",
    "    if 18 <= x <= 25:\n",
    "        return '18 - 25'\n",
    "    elif 26 <= x <= 35:\n",
    "        return '26 - 35'\n",
    "    elif 36 <= x <= 45:\n",
    "        return '36 - 45'\n",
    "    elif 46 <= x <= 55:\n",
    "        return '46 - 55'\n",
    "    elif 56 <= x:\n",
    "        return '56 and Above'\n",
    "\n",
    "    \n",
    "df['Officer Age Group'] = df['Officer Age Group'].apply(map_age)"
   ]
  },
  {
   "cell_type": "code",
   "execution_count": 147,
   "metadata": {},
   "outputs": [
    {
     "data": {
      "text/plain": [
       "26 - 35         22410\n",
       "36 - 45         19586\n",
       "46 - 55          7845\n",
       "56 and Above     2825\n",
       "18 - 25           917\n",
       "Name: Officer Age Group, dtype: int64"
      ]
     },
     "execution_count": 147,
     "metadata": {},
     "output_type": "execute_result"
    }
   ],
   "source": [
    "#check that the map worked\n",
    "df['Officer Age Group'].value_counts()"
   ]
  },
  {
   "cell_type": "code",
   "execution_count": 148,
   "metadata": {},
   "outputs": [],
   "source": [
    "#drop Officer YOB\n",
    "df.drop('Officer YOB', axis=1, inplace=True)"
   ]
  },
  {
   "cell_type": "code",
   "execution_count": 149,
   "metadata": {},
   "outputs": [
    {
     "data": {
      "text/plain": [
       "White                            39375\n",
       "Two or More Races                 3336\n",
       "Hispanic or Latino                3278\n",
       "Asian                             2398\n",
       "Not Specified                     2293\n",
       "Black or African American         2098\n",
       "Nat Hawaiian/Oth Pac Islander      472\n",
       "American Indian/Alaska Native      333\n",
       "Name: Officer Race, dtype: int64"
      ]
     },
     "execution_count": 149,
     "metadata": {},
     "output_type": "execute_result"
    }
   ],
   "source": [
    "#check officer Race\n",
    "df['Officer Race'].value_counts()"
   ]
  },
  {
   "cell_type": "code",
   "execution_count": 150,
   "metadata": {},
   "outputs": [],
   "source": [
    "#Make Not Specified as Unknown\n",
    "df.loc[ df['Officer Race'] == 'Not Specified', 'Officer Race'] = 'Unknown'"
   ]
  },
  {
   "cell_type": "code",
   "execution_count": 151,
   "metadata": {},
   "outputs": [
    {
     "data": {
      "text/plain": [
       "26 - 35         17912\n",
       "36 - 45         11618\n",
       "18 - 25         10499\n",
       "46 - 55          6882\n",
       "56 and Above     2779\n",
       "1 - 17           2079\n",
       "-                1814\n",
       "Name: Subject Age Group, dtype: int64"
      ]
     },
     "execution_count": 151,
     "metadata": {},
     "output_type": "execute_result"
    }
   ],
   "source": [
    "#Check age group column\n",
    "df['Subject Age Group'].value_counts()"
   ]
  },
  {
   "cell_type": "code",
   "execution_count": 152,
   "metadata": {},
   "outputs": [
    {
     "data": {
      "text/plain": [
       "N    48668\n",
       "Y     4915\n",
       "Name: Arrest Flag, dtype: int64"
      ]
     },
     "execution_count": 152,
     "metadata": {},
     "output_type": "execute_result"
    }
   ],
   "source": [
    "# check arrest flag column\n",
    "df['Arrest Flag'].value_counts()"
   ]
  },
  {
   "cell_type": "code",
   "execution_count": 153,
   "metadata": {},
   "outputs": [
    {
     "data": {
      "text/plain": [
       "N    40736\n",
       "Y    12369\n",
       "-      478\n",
       "Name: Frisk Flag, dtype: int64"
      ]
     },
     "execution_count": 153,
     "metadata": {},
     "output_type": "execute_result"
    }
   ],
   "source": [
    "#check frisk flag\n",
    "df['Frisk Flag'].value_counts()"
   ]
  },
  {
   "cell_type": "code",
   "execution_count": 154,
   "metadata": {},
   "outputs": [
    {
     "name": "stdout",
     "output_type": "stream",
     "text": [
      "<class 'pandas.core.frame.DataFrame'>\n",
      "Int64Index: 53583 entries, 2 to 53653\n",
      "Data columns (total 18 columns):\n",
      " #   Column                    Non-Null Count  Dtype              \n",
      "---  ------                    --------------  -----              \n",
      " 0   Subject Age Group         53583 non-null  object             \n",
      " 1   Stop Resolution           53583 non-null  int64              \n",
      " 2   Weapon Type               53583 non-null  object             \n",
      " 3   Officer Gender            53583 non-null  object             \n",
      " 4   Officer Race              53583 non-null  object             \n",
      " 5   Subject Perceived Race    53583 non-null  object             \n",
      " 6   Subject Perceived Gender  53583 non-null  object             \n",
      " 7   Reported Date             53583 non-null  datetime64[ns, UTC]\n",
      " 8   Call Type                 53583 non-null  object             \n",
      " 9   Arrest Flag               53583 non-null  object             \n",
      " 10  Frisk Flag                53583 non-null  object             \n",
      " 11  Precinct                  53583 non-null  object             \n",
      " 12  Sector                    53583 non-null  object             \n",
      " 13  Beat                      53583 non-null  object             \n",
      " 14  Month                     53583 non-null  int64              \n",
      " 15  Week                      53583 non-null  int64              \n",
      " 16  day/night                 53583 non-null  object             \n",
      " 17  Officer Age Group         53583 non-null  object             \n",
      "dtypes: datetime64[ns, UTC](1), int64(3), object(14)\n",
      "memory usage: 7.8+ MB\n"
     ]
    }
   ],
   "source": [
    "#final check\n",
    "df.info()"
   ]
  },
  {
   "cell_type": "code",
   "execution_count": 155,
   "metadata": {},
   "outputs": [],
   "source": [
    "#No longer need reported Date\n",
    "df = df.drop(columns ='Reported Date')"
   ]
  },
  {
   "cell_type": "code",
   "execution_count": 156,
   "metadata": {},
   "outputs": [],
   "source": [
    "#I think this field contradicts the Stop Resolution field, and based on the column explanations, \n",
    "#Stop Resolution is more official so we will drop this one.\n",
    "\n",
    "#create a copy of the df right before dropping this to compare later - \n",
    "df_with_arrest_flag = df.copy()\n",
    "df = df.drop(columns ='Arrest Flag')"
   ]
  },
  {
   "cell_type": "markdown",
   "metadata": {},
   "source": [
    "### One Hot Encode the data"
   ]
  },
  {
   "cell_type": "code",
   "execution_count": 157,
   "metadata": {},
   "outputs": [],
   "source": [
    "xgb_clf#obtain dummies\n",
    "dummy_df = pd.get_dummies(df, drop_first=True)"
   ]
  },
  {
   "cell_type": "markdown",
   "metadata": {},
   "source": [
    "### Phase 2 - Modeling"
   ]
  },
  {
   "cell_type": "code",
   "execution_count": 158,
   "metadata": {},
   "outputs": [],
   "source": [
    "# Data X and Y\n",
    "\n",
    "y = dummy_df['Stop Resolution']\n",
    "X = dummy_df.drop('Stop Resolution', axis=1)"
   ]
  },
  {
   "cell_type": "code",
   "execution_count": 159,
   "metadata": {},
   "outputs": [],
   "source": [
    "# Split the data\n",
    "X_train, X_test, y_train, y_test = train_test_split(X, y, random_state=123, test_size = .25)"
   ]
  },
  {
   "cell_type": "code",
   "execution_count": 45,
   "metadata": {},
   "outputs": [
    {
     "name": "stderr",
     "output_type": "stream",
     "text": [
      "/Users/cassidyexum/opt/anaconda3/envs/learn-env/lib/python3.8/site-packages/sklearn/linear_model/_logistic.py:762: ConvergenceWarning: lbfgs failed to converge (status=1):\n",
      "STOP: TOTAL NO. of ITERATIONS REACHED LIMIT.\n",
      "\n",
      "Increase the number of iterations (max_iter) or scale the data as shown in:\n",
      "    https://scikit-learn.org/stable/modules/preprocessing.html\n",
      "Please also refer to the documentation for alternative solver options:\n",
      "    https://scikit-learn.org/stable/modules/linear_model.html#logistic-regression\n",
      "  n_iter_i = _check_optimize_result(\n"
     ]
    },
    {
     "data": {
      "text/plain": [
       "LogisticRegression(random_state=123)"
      ]
     },
     "execution_count": 45,
     "metadata": {},
     "output_type": "execute_result"
    }
   ],
   "source": [
    "# Baseline model\n",
    "\n",
    "logistic_regression_clf = LogisticRegression(random_state=123)\n",
    "\n",
    "logistic_regression_clf.fit(X_train, y_train)\n"
   ]
  },
  {
   "cell_type": "code",
   "execution_count": 46,
   "metadata": {},
   "outputs": [
    {
     "data": {
      "text/plain": [
       "0.7587339504329651"
      ]
     },
     "execution_count": 46,
     "metadata": {},
     "output_type": "execute_result"
    }
   ],
   "source": [
    "#predictions and test score\n",
    "\n",
    "train_preds = logistic_regression_clf.predict(X_train)\n",
    "test_preds = logistic_regression_clf.predict(X_test)\n",
    "\n",
    "logistic_regression_clf.score(X_test, y_test)"
   ]
  },
  {
   "cell_type": "code",
   "execution_count": 47,
   "metadata": {},
   "outputs": [
    {
     "name": "stdout",
     "output_type": "stream",
     "text": [
      "              precision    recall  f1-score   support\n",
      "\n",
      "           0       0.77      0.97      0.86     10170\n",
      "           1       0.49      0.08      0.14      3226\n",
      "\n",
      "    accuracy                           0.76     13396\n",
      "   macro avg       0.63      0.53      0.50     13396\n",
      "weighted avg       0.70      0.76      0.69     13396\n",
      "\n"
     ]
    }
   ],
   "source": [
    "#Classification Report\n",
    "print(classification_report(y_test, test_preds))"
   ]
  },
  {
   "cell_type": "code",
   "execution_count": 48,
   "metadata": {},
   "outputs": [
    {
     "name": "stdout",
     "output_type": "stream",
     "text": [
      "[[9907  263]\n",
      " [2969  257]]\n"
     ]
    }
   ],
   "source": [
    "#Confusion Matrix\n",
    "print(confusion_matrix(y_test, test_preds))"
   ]
  },
  {
   "cell_type": "code",
   "execution_count": 49,
   "metadata": {},
   "outputs": [
    {
     "name": "stderr",
     "output_type": "stream",
     "text": [
      "/Users/cassidyexum/opt/anaconda3/envs/learn-env/lib/python3.8/site-packages/sklearn/linear_model/_logistic.py:762: ConvergenceWarning: lbfgs failed to converge (status=1):\n",
      "STOP: TOTAL NO. of ITERATIONS REACHED LIMIT.\n",
      "\n",
      "Increase the number of iterations (max_iter) or scale the data as shown in:\n",
      "    https://scikit-learn.org/stable/modules/preprocessing.html\n",
      "Please also refer to the documentation for alternative solver options:\n",
      "    https://scikit-learn.org/stable/modules/linear_model.html#logistic-regression\n",
      "  n_iter_i = _check_optimize_result(\n",
      "/Users/cassidyexum/opt/anaconda3/envs/learn-env/lib/python3.8/site-packages/sklearn/linear_model/_logistic.py:762: ConvergenceWarning: lbfgs failed to converge (status=1):\n",
      "STOP: TOTAL NO. of ITERATIONS REACHED LIMIT.\n",
      "\n",
      "Increase the number of iterations (max_iter) or scale the data as shown in:\n",
      "    https://scikit-learn.org/stable/modules/preprocessing.html\n",
      "Please also refer to the documentation for alternative solver options:\n",
      "    https://scikit-learn.org/stable/modules/linear_model.html#logistic-regression\n",
      "  n_iter_i = _check_optimize_result(\n",
      "/Users/cassidyexum/opt/anaconda3/envs/learn-env/lib/python3.8/site-packages/sklearn/linear_model/_logistic.py:762: ConvergenceWarning: lbfgs failed to converge (status=1):\n",
      "STOP: TOTAL NO. of ITERATIONS REACHED LIMIT.\n",
      "\n",
      "Increase the number of iterations (max_iter) or scale the data as shown in:\n",
      "    https://scikit-learn.org/stable/modules/preprocessing.html\n",
      "Please also refer to the documentation for alternative solver options:\n",
      "    https://scikit-learn.org/stable/modules/linear_model.html#logistic-regression\n",
      "  n_iter_i = _check_optimize_result(\n"
     ]
    },
    {
     "data": {
      "text/plain": [
       "array([0.7539564 , 0.75335921, 0.75483389])"
      ]
     },
     "execution_count": 49,
     "metadata": {},
     "output_type": "execute_result"
    }
   ],
   "source": [
    "#Cross val score\n",
    "cross_val_score(logistic_regression_clf, X_train, y_train, cv=3)"
   ]
  },
  {
   "cell_type": "markdown",
   "metadata": {},
   "source": [
    "The learner is about 75% accurate, could be random guessing no arrest, or it just fits this the general proportions of the data. Need to go more in depth.\n",
    "\n",
    "The classification metrics show that while the learner is fairly good at predicting No Arrest, it falls short to only around 50% when it comes to predicting Arrest. It also contains a large amount of False Negatives. Why are there so few true negatives?\n"
   ]
  },
  {
   "cell_type": "markdown",
   "metadata": {},
   "source": [
    "# Perceptron"
   ]
  },
  {
   "cell_type": "markdown",
   "metadata": {},
   "source": [
    "Similar to a logistic regression, a perceptron is a simple model with fast computation time. It's also pretty effective at binary classification problems. I was reccomended to try this from a collegue."
   ]
  },
  {
   "cell_type": "code",
   "execution_count": 50,
   "metadata": {},
   "outputs": [
    {
     "name": "stdout",
     "output_type": "stream",
     "text": [
      "Perceptron Test Score:  0.7393998208420424\n",
      "================================================\n",
      "Test Classification Report\n",
      "              precision    recall  f1-score   support\n",
      "\n",
      "           0       0.77      0.93      0.84     10170\n",
      "           1       0.38      0.13      0.19      3226\n",
      "\n",
      "    accuracy                           0.74     13396\n",
      "   macro avg       0.58      0.53      0.52     13396\n",
      "weighted avg       0.68      0.74      0.69     13396\n",
      "\n",
      "================================================\n",
      "Train Classification Report\n",
      "              precision    recall  f1-score   support\n",
      "\n",
      "           0       0.76      0.93      0.84     30295\n",
      "           1       0.38      0.12      0.18      9892\n",
      "\n",
      "    accuracy                           0.73     40187\n",
      "   macro avg       0.57      0.53      0.51     40187\n",
      "weighted avg       0.67      0.73      0.68     40187\n",
      "\n"
     ]
    }
   ],
   "source": [
    "from sklearn.linear_model import Perceptron\n",
    "\n",
    "#Instantiate\n",
    "perceptron_clf = Perceptron()\n",
    "\n",
    "#fit\n",
    "perceptron_clf.fit(X_train, y_train)\n",
    "\n",
    "print('Perceptron Test Score: ', perceptron_clf.score(X_test, y_test))\n",
    "test_preds = perceptron_clf.predict(X_test)\n",
    "train_preds = perceptron_clf.predict(X_train)\n",
    "print('================================================')\n",
    "\n",
    "#classification report\n",
    "print('Test Classification Report')\n",
    "print(classification_report(y_test, test_preds))\n",
    "print('================================================')\n",
    "print('Train Classification Report')\n",
    "print(classification_report(y_train, train_preds))"
   ]
  },
  {
   "cell_type": "markdown",
   "metadata": {},
   "source": [
    "The Perceptron performed worse that the baseline model so I don't think it's worth iterating on this model in most metrics. Weirdly the f1 score for the perceptron was better than the logistic regression. I will just continue with other options."
   ]
  },
  {
   "cell_type": "markdown",
   "metadata": {},
   "source": [
    "## Decision Tree with GridSearchCV"
   ]
  },
  {
   "cell_type": "markdown",
   "metadata": {},
   "source": [
    "Decision Tree's are great tools for classification. They are much more powerful than logistic regression models but still quite fast to train."
   ]
  },
  {
   "cell_type": "code",
   "execution_count": 51,
   "metadata": {},
   "outputs": [
    {
     "name": "stdout",
     "output_type": "stream",
     "text": [
      "Mean Cross Validation Score: 68.64%\n"
     ]
    }
   ],
   "source": [
    "# instatiate DT classifier and obtain cross val score\n",
    "dt_clf = DecisionTreeClassifier()\n",
    "dt_cv_score = cross_val_score(dt_clf, X_train, y_train, cv=3)\n",
    "mean_dt_cv_score = np.mean(dt_cv_score)\n",
    "\n",
    "print(f\"Mean Cross Validation Score: {mean_dt_cv_score :.2%}\")"
   ]
  },
  {
   "cell_type": "code",
   "execution_count": 52,
   "metadata": {},
   "outputs": [],
   "source": [
    "#params for grid search\n",
    "dt_param_grid = {\n",
    "    'criterion': ['gini', 'entropy'],\n",
    "    'max_depth': [None, 2, 4, 6],\n",
    "    'min_samples_split': [2, 5, 10],\n",
    "    'min_samples_leaf': [1, 3, 5]\n",
    "}"
   ]
  },
  {
   "cell_type": "code",
   "execution_count": 53,
   "metadata": {},
   "outputs": [
    {
     "name": "stdout",
     "output_type": "stream",
     "text": [
      "Best Params:  {'criterion': 'gini', 'max_depth': 4, 'min_samples_leaf': 1, 'min_samples_split': 2}\n",
      "Best Score:  0.7541244839066019\n"
     ]
    }
   ],
   "source": [
    "# instantiate grid search and fit\n",
    "dt_grid_search = GridSearchCV(dt_clf, dt_param_grid, cv=3, return_train_score=True)\n",
    "\n",
    "# Fit to the data\n",
    "dt_grid_search.fit(X_train, y_train)\n",
    "\n",
    "# Obtain the parameters of the best tree\n",
    "print('Best Params: ', dt_grid_search.best_params_)\n",
    "\n",
    "#best score check, is it better than before?\n",
    "print('Best Score: ', dt_grid_search.best_score_)"
   ]
  },
  {
   "cell_type": "code",
   "execution_count": 54,
   "metadata": {},
   "outputs": [],
   "source": [
    "# Instantiate classifier with best params\n",
    "dt_clf = DecisionTreeClassifier(criterion='gini',\n",
    "                               max_depth=4,\n",
    "                               min_samples_leaf=1,\n",
    "                               min_samples_split=2)"
   ]
  },
  {
   "cell_type": "code",
   "execution_count": 55,
   "metadata": {},
   "outputs": [
    {
     "data": {
      "text/plain": [
       "DecisionTreeClassifier(max_depth=4)"
      ]
     },
     "execution_count": 55,
     "metadata": {},
     "output_type": "execute_result"
    }
   ],
   "source": [
    "#Fit classifier\n",
    "dt_clf.fit(X_train, y_train)"
   ]
  },
  {
   "cell_type": "code",
   "execution_count": 56,
   "metadata": {},
   "outputs": [
    {
     "name": "stdout",
     "output_type": "stream",
     "text": [
      "Train Score:  0.7542737701246672\n",
      "============\n",
      "Test Score:  0.7595550910719617\n"
     ]
    }
   ],
   "source": [
    "# Obtain preds and scores\n",
    "test_preds = dt_clf.predict(X_test)\n",
    "train_preds = dt_clf.predict(X_train)\n",
    "\n",
    "print('Train Score: ', dt_clf.score(X_train, y_train))\n",
    "print('============')\n",
    "print('Test Score: ', dt_clf.score(X_test, y_test))"
   ]
  },
  {
   "cell_type": "code",
   "execution_count": 57,
   "metadata": {},
   "outputs": [
    {
     "name": "stdout",
     "output_type": "stream",
     "text": [
      "              precision    recall  f1-score   support\n",
      "\n",
      "           0       0.76      1.00      0.86     10170\n",
      "           1       0.55      0.01      0.02      3226\n",
      "\n",
      "    accuracy                           0.76     13396\n",
      "   macro avg       0.66      0.50      0.44     13396\n",
      "weighted avg       0.71      0.76      0.66     13396\n",
      "\n"
     ]
    }
   ],
   "source": [
    "# Classification report\n",
    "print(classification_report(y_test, test_preds))"
   ]
  },
  {
   "cell_type": "code",
   "execution_count": 58,
   "metadata": {},
   "outputs": [
    {
     "name": "stdout",
     "output_type": "stream",
     "text": [
      "              precision    recall  f1-score   support\n",
      "\n",
      "           0       0.75      1.00      0.86     30295\n",
      "           1       0.57      0.01      0.01      9892\n",
      "\n",
      "    accuracy                           0.75     40187\n",
      "   macro avg       0.66      0.50      0.44     40187\n",
      "weighted avg       0.71      0.75      0.65     40187\n",
      "\n"
     ]
    }
   ],
   "source": [
    "print(classification_report(y_train, train_preds))"
   ]
  },
  {
   "cell_type": "markdown",
   "metadata": {},
   "source": [
    "The decision tree had awful recall and f1 scores for the arrest classification. While the score's are better than the previous models, I think I have to try another model. I will be going with XGBoost."
   ]
  },
  {
   "cell_type": "markdown",
   "metadata": {},
   "source": [
    "## XGBoost attempt - \n",
    "\n",
    "As a recap - Logistic Regression was about 73% accurate and a Decision Tree using Grid Search got us to 75%. XGBoost is considered one of the best so I'm hoping to get to 80%"
   ]
  },
  {
   "cell_type": "code",
   "execution_count": 59,
   "metadata": {},
   "outputs": [
    {
     "data": {
      "text/plain": [
       "XGBClassifier(base_score=0.5, booster='gbtree', colsample_bylevel=1,\n",
       "              colsample_bynode=1, colsample_bytree=1, gamma=0, gpu_id=-1,\n",
       "              importance_type='gain', interaction_constraints='',\n",
       "              learning_rate=0.300000012, max_delta_step=0, max_depth=6,\n",
       "              min_child_weight=1, missing=nan, monotone_constraints='()',\n",
       "              n_estimators=100, n_jobs=0, num_parallel_tree=1, random_state=0,\n",
       "              reg_alpha=0, reg_lambda=1, scale_pos_weight=1, subsample=1,\n",
       "              tree_method='exact', validate_parameters=1, verbosity=None)"
      ]
     },
     "execution_count": 59,
     "metadata": {},
     "output_type": "execute_result"
    }
   ],
   "source": [
    "#Instantiate the classifier\n",
    "xgb_clf = XGBClassifier()\n",
    "\n",
    "# fit the classifier\n",
    "xgb_clf.fit(X_train, y_train)"
   ]
  },
  {
   "cell_type": "code",
   "execution_count": 60,
   "metadata": {},
   "outputs": [
    {
     "name": "stdout",
     "output_type": "stream",
     "text": [
      "Test Classification Report\n",
      "              precision    recall  f1-score   support\n",
      "\n",
      "           0       0.78      0.95      0.86     10170\n",
      "           1       0.48      0.14      0.22      3226\n",
      "\n",
      "    accuracy                           0.76     13396\n",
      "   macro avg       0.63      0.55      0.54     13396\n",
      "weighted avg       0.71      0.76      0.70     13396\n",
      "\n",
      "================================================\n",
      "Train Classification Report\n",
      "              precision    recall  f1-score   support\n",
      "\n",
      "           0       0.80      0.98      0.88     30295\n",
      "           1       0.79      0.25      0.38      9892\n",
      "\n",
      "    accuracy                           0.80     40187\n",
      "   macro avg       0.80      0.61      0.63     40187\n",
      "weighted avg       0.80      0.80      0.76     40187\n",
      "\n"
     ]
    }
   ],
   "source": [
    "#Train Scores\n",
    "train_preds = xgb_clf.predict(X_train)\n",
    "\n",
    "#Test Scores\n",
    "test_preds = xgb_clf.predict(X_test)\n",
    "\n",
    "#classification report\n",
    "print('Test Classification Report')\n",
    "print(classification_report(y_test, test_preds))\n",
    "print('================================================')\n",
    "print('Train Classification Report')\n",
    "print(classification_report(y_train, train_preds))"
   ]
  },
  {
   "cell_type": "code",
   "execution_count": 61,
   "metadata": {},
   "outputs": [
    {
     "name": "stdout",
     "output_type": "stream",
     "text": [
      "Train Score:  0.799213676064399\n",
      "============\n",
      "Test Score:  0.7566437742609734\n"
     ]
    }
   ],
   "source": [
    "print('Train Score: ', xgb_clf.score(X_train, y_train))\n",
    "print('============')\n",
    "print('Test Score: ', xgb_clf.score(X_test, y_test))"
   ]
  },
  {
   "cell_type": "code",
   "execution_count": 62,
   "metadata": {},
   "outputs": [],
   "source": [
    "# XGB Param grid\n",
    "xgb_grid_params = {\n",
    "    'n_estimators': [75, 100, 125],\n",
    "    'learning_rate': [.25, .30, .35],\n",
    "    'max_depth': [5, 6, 7],\n",
    "    'booster': ['gbtree']\n",
    "}"
   ]
  },
  {
   "cell_type": "code",
   "execution_count": 63,
   "metadata": {},
   "outputs": [
    {
     "data": {
      "text/plain": [
       "GridSearchCV(cv=3,\n",
       "             estimator=XGBClassifier(base_score=0.5, booster='gbtree',\n",
       "                                     colsample_bylevel=1, colsample_bynode=1,\n",
       "                                     colsample_bytree=1, gamma=0, gpu_id=-1,\n",
       "                                     importance_type='gain',\n",
       "                                     interaction_constraints='',\n",
       "                                     learning_rate=0.300000012,\n",
       "                                     max_delta_step=0, max_depth=6,\n",
       "                                     min_child_weight=1, missing=nan,\n",
       "                                     monotone_constraints='()',\n",
       "                                     n_estimators=100, n_jobs=0,\n",
       "                                     num_parallel_tree=1, random_state=0,\n",
       "                                     reg_alpha=0, reg_lambda=1,\n",
       "                                     scale_pos_weight=1, subsample=1,\n",
       "                                     tree_method='exact', validate_parameters=1,\n",
       "                                     verbosity=None),\n",
       "             param_grid={'booster': ['gbtree'],\n",
       "                         'learning_rate': [0.25, 0.3, 0.35],\n",
       "                         'max_depth': [5, 6, 7],\n",
       "                         'n_estimators': [75, 100, 125]},\n",
       "             return_train_score=True)"
      ]
     },
     "execution_count": 63,
     "metadata": {},
     "output_type": "execute_result"
    }
   ],
   "source": [
    "#run the grid search\n",
    "xgb_grid_search = GridSearchCV(xgb_clf, xgb_grid_params, cv=3, return_train_score=True)\n",
    "xgb_grid_search.fit(X_train, y_train)"
   ]
  },
  {
   "cell_type": "code",
   "execution_count": 64,
   "metadata": {},
   "outputs": [
    {
     "name": "stdout",
     "output_type": "stream",
     "text": [
      "Best Score:  0.7520591852113654\n",
      "===============\n",
      "Best Params:  {'booster': 'gbtree', 'learning_rate': 0.25, 'max_depth': 5, 'n_estimators': 100}\n"
     ]
    }
   ],
   "source": [
    "#obtain best params and best score\n",
    "print('Best Score: ', xgb_grid_search.best_score_)\n",
    "print(\"===============\")\n",
    "print('Best Params: ', xgb_grid_search.best_params_)\n"
   ]
  },
  {
   "cell_type": "markdown",
   "metadata": {},
   "source": [
    "# Re doing the base XGBoost model (best predictor) and obtaining coeficients"
   ]
  },
  {
   "cell_type": "code",
   "execution_count": 160,
   "metadata": {},
   "outputs": [
    {
     "name": "stdout",
     "output_type": "stream",
     "text": [
      "Test Classification Report\n",
      "              precision    recall  f1-score   support\n",
      "\n",
      "           0       0.78      0.95      0.86     10170\n",
      "           1       0.48      0.14      0.22      3226\n",
      "\n",
      "    accuracy                           0.76     13396\n",
      "   macro avg       0.63      0.55      0.54     13396\n",
      "weighted avg       0.71      0.76      0.70     13396\n",
      "\n",
      "================================================\n",
      "Train Classification Report\n",
      "              precision    recall  f1-score   support\n",
      "\n",
      "           0       0.80      0.98      0.88     30295\n",
      "           1       0.79      0.25      0.38      9892\n",
      "\n",
      "    accuracy                           0.80     40187\n",
      "   macro avg       0.80      0.61      0.63     40187\n",
      "weighted avg       0.80      0.80      0.76     40187\n",
      "\n",
      "================================================\n",
      "Train Score:  0.799213676064399\n",
      "================================================\n",
      "Test Score:  0.7566437742609734\n",
      "================================================\n"
     ]
    }
   ],
   "source": [
    "#Instantiate the classifier\n",
    "xgb_clf = XGBClassifier()\n",
    "\n",
    "# fit the classifier\n",
    "xgb_clf.fit(X_train, y_train)\n",
    "\n",
    "#Train Scores\n",
    "train_preds = xgb_clf.predict(X_train)\n",
    "\n",
    "#Test Scores\n",
    "test_preds = xgb_clf.predict(X_test)\n",
    "\n",
    "#classification report\n",
    "print('Test Classification Report')\n",
    "print(classification_report(y_test, test_preds))\n",
    "print('================================================')\n",
    "print('Train Classification Report')\n",
    "print(classification_report(y_train, train_preds))\n",
    "print('================================================')\n",
    "print('Train Score: ', xgb_clf.score(X_train, y_train))\n",
    "print('================================================')\n",
    "print('Test Score: ', xgb_clf.score(X_test, y_test))\n",
    "print('================================================')\n"
   ]
  },
  {
   "cell_type": "markdown",
   "metadata": {},
   "source": [
    "The training score is just about 80%, while the test score is still close to 75/76%. What's really interesting though, is that the metrics for No Arrest classification are worse than all the other models, while the Arrest metrics are higher than all the others. XGBoost is clearly the best model."
   ]
  },
  {
   "cell_type": "code",
   "execution_count": 162,
   "metadata": {},
   "outputs": [],
   "source": [
    "from sklearn.metrics import plot_confusion_matrix"
   ]
  },
  {
   "cell_type": "code",
   "execution_count": 163,
   "metadata": {},
   "outputs": [
    {
     "data": {
      "text/plain": [
       "<sklearn.metrics._plot.confusion_matrix.ConfusionMatrixDisplay at 0x7fd1e7ab4d30>"
      ]
     },
     "execution_count": 163,
     "metadata": {},
     "output_type": "execute_result"
    },
    {
     "data": {
      "image/png": "[encoded data removed]",
      "text/plain": [
       "<Figure size 432x288 with 2 Axes>"
      ]
     },
     "metadata": {
      "needs_background": "light"
     },
     "output_type": "display_data"
    }
   ],
   "source": [
    "plot_confusion_matrix(xgb_clf, X_test, y_test)  "
   ]
  },
  {
   "cell_type": "code",
   "execution_count": 66,
   "metadata": {},
   "outputs": [],
   "source": [
    "#Obtain the feature importance and convert to a dataframe\n",
    "feature_importance = pd.DataFrame(xgb_clf.feature_importances_)\n",
    "feature_importance = feature_importance.T\n",
    "feature_importance.columns = X_train.columns"
   ]
  },
  {
   "cell_type": "code",
   "execution_count": 68,
   "metadata": {},
   "outputs": [
    {
     "data": {
      "text/html": [
       "<div>\n",
       "<style scoped>\n",
       "    .dataframe tbody tr th:only-of-type {\n",
       "        vertical-align: middle;\n",
       "    }\n",
       "\n",
       "    .dataframe tbody tr th {\n",
       "        vertical-align: top;\n",
       "    }\n",
       "\n",
       "    .dataframe thead th {\n",
       "        text-align: right;\n",
       "    }\n",
       "</style>\n",
       "<table border=\"1\" class=\"dataframe\">\n",
       "  <thead>\n",
       "    <tr style=\"text-align: right;\">\n",
       "      <th></th>\n",
       "      <th>0</th>\n",
       "    </tr>\n",
       "  </thead>\n",
       "  <tbody>\n",
       "    <tr>\n",
       "      <th>Precinct_Unknown</th>\n",
       "      <td>0.425884</td>\n",
       "    </tr>\n",
       "    <tr>\n",
       "      <th>Frisk Flag_Y</th>\n",
       "      <td>0.017746</td>\n",
       "    </tr>\n",
       "    <tr>\n",
       "      <th>Precinct_North</th>\n",
       "      <td>0.017104</td>\n",
       "    </tr>\n",
       "    <tr>\n",
       "      <th>Call Type_911</th>\n",
       "      <td>0.013095</td>\n",
       "    </tr>\n",
       "    <tr>\n",
       "      <th>Beat_M2</th>\n",
       "      <td>0.011080</td>\n",
       "    </tr>\n",
       "    <tr>\n",
       "      <th>...</th>\n",
       "      <td>...</td>\n",
       "    </tr>\n",
       "    <tr>\n",
       "      <th>Subject Perceived Race_Other</th>\n",
       "      <td>0.001238</td>\n",
       "    </tr>\n",
       "    <tr>\n",
       "      <th>Subject Perceived Gender_Gender Diverse (gender non-conforming and/or transgender)</th>\n",
       "      <td>0.001220</td>\n",
       "    </tr>\n",
       "    <tr>\n",
       "      <th>Beat_OOJ</th>\n",
       "      <td>0.000333</td>\n",
       "    </tr>\n",
       "    <tr>\n",
       "      <th>Beat_S</th>\n",
       "      <td>0.000000</td>\n",
       "    </tr>\n",
       "    <tr>\n",
       "      <th>Call Type_SCHEDULED EVENT (RECURRING)</th>\n",
       "      <td>0.000000</td>\n",
       "    </tr>\n",
       "  </tbody>\n",
       "</table>\n",
       "<p>120 rows × 1 columns</p>\n",
       "</div>"
      ],
      "text/plain": [
       "                                                           0\n",
       "Precinct_Unknown                                    0.425884\n",
       "Frisk Flag_Y                                        0.017746\n",
       "Precinct_North                                      0.017104\n",
       "Call Type_911                                       0.013095\n",
       "Beat_M2                                             0.011080\n",
       "...                                                      ...\n",
       "Subject Perceived Race_Other                        0.001238\n",
       "Subject Perceived Gender_Gender Diverse (gender...  0.001220\n",
       "Beat_OOJ                                            0.000333\n",
       "Beat_S                                              0.000000\n",
       "Call Type_SCHEDULED EVENT (RECURRING)               0.000000\n",
       "\n",
       "[120 rows x 1 columns]"
      ]
     },
     "execution_count": 68,
     "metadata": {},
     "output_type": "execute_result"
    }
   ],
   "source": [
    "#Sort and print feature importance, just a check\n",
    "feature_importance.T.sort_values(0, ascending=False)"
   ]
  },
  {
   "cell_type": "code",
   "execution_count": 69,
   "metadata": {},
   "outputs": [],
   "source": [
    "# Consolidate dummy importance values into a single value for the original columns\n",
    "\n",
    "importance_consolidated = pd.DataFrame(np.zeros(df.columns.size))\n",
    "importance_consolidated = importance_consolidated.T\n",
    "importance_consolidated.columns = df.columns\n",
    "\n",
    "for con_col in importance_consolidated.columns:\n",
    "    for feat_col in feature_importance.columns:\n",
    "        if con_col in feat_col:\n",
    "            importance_consolidated[con_col] += feature_importance[feat_col]\n",
    "\n",
    "importance_consolidated.drop('Stop Resolution', axis=1, inplace=True)"
   ]
  },
  {
   "cell_type": "code",
   "execution_count": 70,
   "metadata": {},
   "outputs": [
    {
     "data": {
      "text/html": [
       "<div>\n",
       "<style scoped>\n",
       "    .dataframe tbody tr th:only-of-type {\n",
       "        vertical-align: middle;\n",
       "    }\n",
       "\n",
       "    .dataframe tbody tr th {\n",
       "        vertical-align: top;\n",
       "    }\n",
       "\n",
       "    .dataframe thead th {\n",
       "        text-align: right;\n",
       "    }\n",
       "</style>\n",
       "<table border=\"1\" class=\"dataframe\">\n",
       "  <thead>\n",
       "    <tr style=\"text-align: right;\">\n",
       "      <th></th>\n",
       "      <th>Subject Age Group</th>\n",
       "      <th>Weapon Type</th>\n",
       "      <th>Officer Gender</th>\n",
       "      <th>Officer Race</th>\n",
       "      <th>Subject Perceived Race</th>\n",
       "      <th>Subject Perceived Gender</th>\n",
       "      <th>Call Type</th>\n",
       "      <th>Frisk Flag</th>\n",
       "      <th>Precinct</th>\n",
       "      <th>Sector</th>\n",
       "      <th>Beat</th>\n",
       "      <th>Month</th>\n",
       "      <th>Week</th>\n",
       "      <th>day/night</th>\n",
       "      <th>Officer Age Group</th>\n",
       "    </tr>\n",
       "  </thead>\n",
       "  <tbody>\n",
       "    <tr>\n",
       "      <th>0</th>\n",
       "      <td>0.02606</td>\n",
       "      <td>0.022233</td>\n",
       "      <td>0.005031</td>\n",
       "      <td>0.031379</td>\n",
       "      <td>0.033484</td>\n",
       "      <td>0.008795</td>\n",
       "      <td>0.032855</td>\n",
       "      <td>0.02767</td>\n",
       "      <td>0.468378</td>\n",
       "      <td>0.09234</td>\n",
       "      <td>0.218431</td>\n",
       "      <td>0.003988</td>\n",
       "      <td>0.003823</td>\n",
       "      <td>0.004623</td>\n",
       "      <td>0.020908</td>\n",
       "    </tr>\n",
       "  </tbody>\n",
       "</table>\n",
       "</div>"
      ],
      "text/plain": [
       "   Subject Age Group  Weapon Type  Officer Gender  Officer Race  \\\n",
       "0            0.02606     0.022233        0.005031      0.031379   \n",
       "\n",
       "   Subject Perceived Race  Subject Perceived Gender  Call Type  Frisk Flag  \\\n",
       "0                0.033484                  0.008795   0.032855     0.02767   \n",
       "\n",
       "   Precinct   Sector      Beat     Month      Week  day/night  \\\n",
       "0  0.468378  0.09234  0.218431  0.003988  0.003823   0.004623   \n",
       "\n",
       "   Officer Age Group  \n",
       "0           0.020908  "
      ]
     },
     "execution_count": 70,
     "metadata": {},
     "output_type": "execute_result"
    }
   ],
   "source": [
    "#Print check\n",
    "importance_consolidated"
   ]
  },
  {
   "cell_type": "code",
   "execution_count": 71,
   "metadata": {},
   "outputs": [],
   "source": [
    "#Setup for plotting, need values in different format\n",
    "values = importance_consolidated.T\n",
    "values = values[0].sort_values(0, ascending=False)"
   ]
  },
  {
   "cell_type": "code",
   "execution_count": 72,
   "metadata": {},
   "outputs": [],
   "source": [
    "#Setup for plotting, need indices in different format\n",
    "ticks = importance_consolidated.T\n",
    "ticks = ticks[0].sort_values(0, ascending=False).index"
   ]
  },
  {
   "cell_type": "code",
   "execution_count": 73,
   "metadata": {
    "scrolled": false
   },
   "outputs": [
    {
     "data": {
      "image/png": "[encoded data removed]",
      "text/plain": [
       "<Figure size 1152x576 with 1 Axes>"
      ]
     },
     "metadata": {
      "needs_background": "light"
     },
     "output_type": "display_data"
    }
   ],
   "source": [
    "#plot the features\n",
    "fig = plt.figure(figsize = (16, 8))\n",
    "plt.bar(x = ticks, \n",
    "       height = values)\n",
    "plt.xticks(rotation=60)\n",
    "plt.xlabel('Features')\n",
    "plt.ylabel('Feature Importance')\n",
    "plt.title('Features Sorted by Importance');"
   ]
  },
  {
   "cell_type": "code",
   "execution_count": 74,
   "metadata": {},
   "outputs": [
    {
     "data": {
      "text/html": [
       "<div>\n",
       "<style scoped>\n",
       "    .dataframe tbody tr th:only-of-type {\n",
       "        vertical-align: middle;\n",
       "    }\n",
       "\n",
       "    .dataframe tbody tr th {\n",
       "        vertical-align: top;\n",
       "    }\n",
       "\n",
       "    .dataframe thead th {\n",
       "        text-align: right;\n",
       "    }\n",
       "</style>\n",
       "<table border=\"1\" class=\"dataframe\">\n",
       "  <thead>\n",
       "    <tr style=\"text-align: right;\">\n",
       "      <th></th>\n",
       "      <th>Month</th>\n",
       "      <th>Week</th>\n",
       "      <th>Subject Age Group_1 - 17</th>\n",
       "      <th>Subject Age Group_18 - 25</th>\n",
       "      <th>Subject Age Group_26 - 35</th>\n",
       "      <th>Subject Age Group_36 - 45</th>\n",
       "      <th>Subject Age Group_46 - 55</th>\n",
       "      <th>Subject Age Group_56 and Above</th>\n",
       "      <th>Weapon Type_Firearm</th>\n",
       "      <th>Weapon Type_Lethal Cutting Instrument</th>\n",
       "      <th>...</th>\n",
       "      <th>Beat_U2</th>\n",
       "      <th>Beat_U3</th>\n",
       "      <th>Beat_W1</th>\n",
       "      <th>Beat_W2</th>\n",
       "      <th>Beat_W3</th>\n",
       "      <th>day/night_night</th>\n",
       "      <th>Officer Age Group_26 - 35</th>\n",
       "      <th>Officer Age Group_36 - 45</th>\n",
       "      <th>Officer Age Group_46 - 55</th>\n",
       "      <th>Officer Age Group_56 and Above</th>\n",
       "    </tr>\n",
       "  </thead>\n",
       "  <tbody>\n",
       "    <tr>\n",
       "      <th>0</th>\n",
       "      <td>0.003988</td>\n",
       "      <td>0.003823</td>\n",
       "      <td>0.004788</td>\n",
       "      <td>0.00427</td>\n",
       "      <td>0.004034</td>\n",
       "      <td>0.003999</td>\n",
       "      <td>0.004572</td>\n",
       "      <td>0.004397</td>\n",
       "      <td>0.004667</td>\n",
       "      <td>0.00491</td>\n",
       "      <td>...</td>\n",
       "      <td>0.005269</td>\n",
       "      <td>0.003613</td>\n",
       "      <td>0.005354</td>\n",
       "      <td>0.003464</td>\n",
       "      <td>0.002406</td>\n",
       "      <td>0.004623</td>\n",
       "      <td>0.005261</td>\n",
       "      <td>0.004458</td>\n",
       "      <td>0.005589</td>\n",
       "      <td>0.0056</td>\n",
       "    </tr>\n",
       "  </tbody>\n",
       "</table>\n",
       "<p>1 rows × 120 columns</p>\n",
       "</div>"
      ],
      "text/plain": [
       "      Month      Week  Subject Age Group_1 - 17  Subject Age Group_18 - 25  \\\n",
       "0  0.003988  0.003823                  0.004788                    0.00427   \n",
       "\n",
       "   Subject Age Group_26 - 35  Subject Age Group_36 - 45  \\\n",
       "0                   0.004034                   0.003999   \n",
       "\n",
       "   Subject Age Group_46 - 55  Subject Age Group_56 and Above  \\\n",
       "0                   0.004572                        0.004397   \n",
       "\n",
       "   Weapon Type_Firearm  Weapon Type_Lethal Cutting Instrument  ...   Beat_U2  \\\n",
       "0             0.004667                                0.00491  ...  0.005269   \n",
       "\n",
       "    Beat_U3   Beat_W1   Beat_W2   Beat_W3  day/night_night  \\\n",
       "0  0.003613  0.005354  0.003464  0.002406         0.004623   \n",
       "\n",
       "   Officer Age Group_26 - 35  Officer Age Group_36 - 45  \\\n",
       "0                   0.005261                   0.004458   \n",
       "\n",
       "   Officer Age Group_46 - 55  Officer Age Group_56 and Above  \n",
       "0                   0.005589                          0.0056  \n",
       "\n",
       "[1 rows x 120 columns]"
      ]
     },
     "execution_count": 74,
     "metadata": {},
     "output_type": "execute_result"
    }
   ],
   "source": [
    "feature_importance"
   ]
  },
  {
   "cell_type": "code",
   "execution_count": 89,
   "metadata": {},
   "outputs": [
    {
     "data": {
      "image/png": "[encoded data removed]",
      "text/plain": [
       "<Figure size 864x432 with 1 Axes>"
      ]
     },
     "metadata": {
      "needs_background": "light"
     },
     "output_type": "display_data"
    }
   ],
   "source": [
    "# Essentially the same thing done above, but just for the precinct feature so we can observe\n",
    "# location based information\n",
    "\n",
    "precinct_list = []\n",
    "for col in feature_importance:\n",
    "    if 'Precinct' in col:\n",
    "        precinct_list.append(col)\n",
    "\n",
    "precinct_df = feature_importance[precinct_list]\n",
    "\n",
    "precinct_weights = precinct_df.T\n",
    "precinct_weights = precinct_weights[0].sort_values(0, ascending=False)\n",
    "\n",
    "precinct_labels = precinct_df.T\n",
    "precinct_labels = precinct_labels[0].sort_values(0, ascending=False).index\n",
    "\n",
    "fig = plt.figure(figsize = (12, 6))\n",
    "plt.bar(x = precinct_labels, \n",
    "       height = precinct_weights)\n",
    "plt.xticks(rotation=60)\n",
    "plt.xlabel('Precinct')\n",
    "plt.ylabel('Precinct Weights')\n",
    "plt.title('Precinct Sorted by Weight');"
   ]
  },
  {
   "cell_type": "code",
   "execution_count": 92,
   "metadata": {},
   "outputs": [
    {
     "data": {
      "image/png": "[encoded data removed]",
      "text/plain": [
       "<Figure size 864x432 with 1 Axes>"
      ]
     },
     "metadata": {
      "needs_background": "light"
     },
     "output_type": "display_data"
    }
   ],
   "source": [
    "#Repeat of above but for beat\n",
    "beat_list = []\n",
    "for col in feature_importance:\n",
    "    if 'Beat' in col:\n",
    "        beat_list.append(col)\n",
    "\n",
    "beat_df = feature_importance[beat_list]\n",
    "\n",
    "beat_weights = beat_df.T\n",
    "beat_weights = beat_weights[0].sort_values(0, ascending=False)\n",
    "\n",
    "beat_labels = beat_df.T\n",
    "beat_labels = beat_labels[0].sort_values(0, ascending=False).index\n",
    "\n",
    "fig = plt.figure(figsize = (12, 6))\n",
    "plt.bar(x = beat_labels, \n",
    "       height = beat_weights)\n",
    "plt.xticks(rotation=60)\n",
    "plt.xlabel('Beat')\n",
    "plt.ylabel('Beat Weights')\n",
    "plt.title('Beat Sorted by Weight');"
   ]
  },
  {
   "cell_type": "code",
   "execution_count": 93,
   "metadata": {},
   "outputs": [
    {
     "data": {
      "image/png": "[encoded data removed]",
      "text/plain": [
       "<Figure size 864x432 with 1 Axes>"
      ]
     },
     "metadata": {
      "needs_background": "light"
     },
     "output_type": "display_data"
    }
   ],
   "source": [
    "#Repeat of above but for sector\n",
    "sector_list = []\n",
    "for col in feature_importance:\n",
    "    if 'Sector' in col:\n",
    "        sector_list.append(col)\n",
    "\n",
    "sector_df = feature_importance[sector_list]\n",
    "\n",
    "sector_weights = sector_df.T\n",
    "sector_weights = sector_weights[0].sort_values(0, ascending=False)\n",
    "\n",
    "sector_labels = sector_df.T\n",
    "sector_labels = sector_labels[0].sort_values(0, ascending=False).index\n",
    "\n",
    "fig = plt.figure(figsize = (12, 6))\n",
    "plt.bar(x = sector_labels, \n",
    "       height = sector_weights)\n",
    "plt.xticks(rotation=60)\n",
    "plt.xlabel('Sector')\n",
    "plt.ylabel('Sector Weights')\n",
    "plt.title('Sector Sorted by Weight');"
   ]
  },
  {
   "cell_type": "markdown",
   "metadata": {},
   "source": [
    "# Business Recommendations and conversation\n",
    "\n",
    "The problem statement for this was to create a predictor. I created 4, and all 4 had scores of around 75-80%\n",
    "\n",
    "In the context of the data, this information should be used strictly for research purposes. In no way should a machine learning model be used to determine whether or not to arrest someone.\n",
    "\n",
    "My recommendation would be to investigate why precinct is the largest predictor. If we had socioeconomic data we might be able to draw more conclusions about different areas of Seattle and why they see more arrests than others. I would call on the city to provide census data to allow for this further research.\n",
    " \n",
    "\n"
   ]
  },
  {
   "cell_type": "markdown",
   "metadata": {},
   "source": [
    "## Testing - Adding back in Arrest Flag and seeing results"
   ]
  },
  {
   "cell_type": "code",
   "execution_count": 76,
   "metadata": {},
   "outputs": [],
   "source": [
    "#df_with_arrest_flag\n",
    "new_dummies = pd.get_dummies(df_with_arrest_flag, drop_first=True)"
   ]
  },
  {
   "cell_type": "code",
   "execution_count": 77,
   "metadata": {},
   "outputs": [],
   "source": [
    "y = new_dummies['Stop Resolution']\n",
    "X = new_dummies.drop('Stop Resolution', axis=1)\n",
    "\n",
    "X_train, X_test, y_train, y_test = train_test_split(X, y, random_state=123, test_size = .25)"
   ]
  },
  {
   "cell_type": "code",
   "execution_count": 78,
   "metadata": {},
   "outputs": [
    {
     "name": "stdout",
     "output_type": "stream",
     "text": [
      "Test Classification Report\n",
      "              precision    recall  f1-score   support\n",
      "\n",
      "           0       0.84      0.98      0.91     10170\n",
      "           1       0.89      0.43      0.58      3226\n",
      "\n",
      "    accuracy                           0.85     13396\n",
      "   macro avg       0.87      0.71      0.75     13396\n",
      "weighted avg       0.86      0.85      0.83     13396\n",
      "\n",
      "================================================\n",
      "Train Classification Report\n",
      "              precision    recall  f1-score   support\n",
      "\n",
      "           0       0.85      0.99      0.92     30295\n",
      "           1       0.96      0.48      0.64      9892\n",
      "\n",
      "    accuracy                           0.87     40187\n",
      "   macro avg       0.91      0.74      0.78     40187\n",
      "weighted avg       0.88      0.87      0.85     40187\n",
      "\n",
      "================================================\n",
      "Train Score:  0.8665488839674521\n",
      "================================================\n",
      "Test Score:  0.8503284562555987\n",
      "================================================\n"
     ]
    }
   ],
   "source": [
    "#Instantiate the classifier\n",
    "xgb_clf_2 = XGBClassifier()\n",
    "\n",
    "# fit the classifier\n",
    "xgb_clf_2.fit(X_train, y_train)\n",
    "\n",
    "#Train Scores\n",
    "train_preds = xgb_clf_2.predict(X_train)\n",
    "\n",
    "#Test Scores\n",
    "test_preds = xgb_clf_2.predict(X_test)\n",
    "\n",
    "#classification report\n",
    "print('Test Classification Report')\n",
    "print(classification_report(y_test, test_preds))\n",
    "print('================================================')\n",
    "print('Train Classification Report')\n",
    "print(classification_report(y_train, train_preds))\n",
    "print('================================================')\n",
    "print('Train Score: ', xgb_clf_2.score(X_train, y_train))\n",
    "print('================================================')\n",
    "print('Test Score: ', xgb_clf_2.score(X_test, y_test))\n",
    "print('================================================')"
   ]
  },
  {
   "cell_type": "markdown",
   "metadata": {},
   "source": [
    "Adding the 'Arrest Flag column improved results by 6-10% between the training and test sets.\n",
    "\n",
    "If the goal is to use old data where we always have this column available, it is the best predictor\n",
    "\n",
    "If the goal is to predict the outcome, where this value isn't known, the models perform just barely better than random guessing."
   ]
  },
  {
   "cell_type": "code",
   "execution_count": 79,
   "metadata": {},
   "outputs": [
    {
     "data": {
      "image/png": "[encoded data removed]",
      "text/plain": [
       "<Figure size 1152x576 with 1 Axes>"
      ]
     },
     "metadata": {
      "needs_background": "light"
     },
     "output_type": "display_data"
    }
   ],
   "source": [
    "feature_importance_2 = pd.DataFrame(xgb_clf_2.feature_importances_)\n",
    "feature_importance_2 = feature_importance_2.T\n",
    "feature_importance_2.columns = X_train.columns\n",
    "\n",
    "# Consolidate dummy importance values into a single value for the original columns\n",
    "\n",
    "importance_consolidated_2 = pd.DataFrame(np.zeros(df_with_arrest_flag.columns.size))\n",
    "importance_consolidated_2 = importance_consolidated_2.T\n",
    "importance_consolidated_2.columns = df_with_arrest_flag.columns\n",
    "\n",
    "for con_col in importance_consolidated_2.columns:\n",
    "    for feat_col in feature_importance_2.columns:\n",
    "        if con_col in feat_col:\n",
    "            importance_consolidated_2[con_col] += feature_importance_2[feat_col]\n",
    "\n",
    "importance_consolidated_2.drop('Stop Resolution', axis=1, inplace=True)\n",
    "\n",
    "values = importance_consolidated_2.T\n",
    "values = values[0].sort_values(0, ascending=False)\n",
    "\n",
    "ticks = importance_consolidated_2.T\n",
    "ticks = ticks[0].sort_values(0, ascending=False).index\n",
    "\n",
    "fig = plt.figure(figsize = (16, 8))\n",
    "plt.bar(x = ticks, \n",
    "       height = values)\n",
    "plt.xticks(rotation=60)\n",
    "plt.xlabel('Features')\n",
    "plt.ylabel('Feature Importance')\n",
    "plt.title('Features Sorted by Importance');\n"
   ]
  },
  {
   "cell_type": "markdown",
   "metadata": {},
   "source": [
    "## Rerun XGBoost by removing 2 of Beat/Sector/Pricinct"
   ]
  },
  {
   "cell_type": "markdown",
   "metadata": {},
   "source": [
    "Bar chart of model results in presentation\n",
    "\n",
    "Include the study I found"
   ]
  },
  {
   "cell_type": "code",
   "execution_count": null,
   "metadata": {},
   "outputs": [],
   "source": []
  },
  {
   "cell_type": "markdown",
   "metadata": {},
   "source": [
    "## About the data"
   ]
  },
  {
   "cell_type": "code",
   "execution_count": 95,
   "metadata": {},
   "outputs": [],
   "source": [
    "about_data = pd.read_csv('Terry_Stops.csv')"
   ]
  },
  {
   "cell_type": "code",
   "execution_count": 99,
   "metadata": {},
   "outputs": [
    {
     "data": {
      "text/plain": [
       "1928     2015-03-15T00:00:00Z\n",
       "3913     2015-03-16T00:00:00Z\n",
       "3914     2015-03-16T00:00:00Z\n",
       "32360    2015-03-16T00:00:00Z\n",
       "32874    2015-03-17T00:00:00Z\n",
       "                 ...         \n",
       "41165    2022-10-22T00:00:00Z\n",
       "32346    2022-10-22T00:00:00Z\n",
       "14389    2022-10-22T00:00:00Z\n",
       "12452    2022-10-22T00:00:00Z\n",
       "28583    2022-10-22T00:00:00Z\n",
       "Name: Reported Date, Length: 53654, dtype: object"
      ]
     },
     "execution_count": 99,
     "metadata": {},
     "output_type": "execute_result"
    }
   ],
   "source": [
    "about_data['Reported Date'].sort_values()"
   ]
  },
  {
   "cell_type": "markdown",
   "metadata": {},
   "source": [
    "Ranges from March 2015 to october 2022"
   ]
  },
  {
   "cell_type": "markdown",
   "metadata": {},
   "source": [
    "## Model Metrics Chart"
   ]
  },
  {
   "cell_type": "code",
   "execution_count": 103,
   "metadata": {},
   "outputs": [],
   "source": [
    "model_dict = {\n",
    "    'Logistic Regression Train Score': 75.3,\n",
    "    'Logistic Regression Test Score': 75.8,\n",
    "    'Perceptron Train Score': 74.8,\n",
    "    'Perceptron Test Score': 73.4,\n",
    "    'Decision Tree Train Score': 75.4,\n",
    "    'Decision Tree Test Score': 75.9,\n",
    "    'XGBoost Train Score': 79.9,\n",
    "    'XGBoost Test Score': 76.5\n",
    "}\n",
    "\n",
    "labels = ['Logistic Regression', 'Perceptron', 'Decision Tree', 'XGBoost']\n",
    "train_scores = [75.3, 74.8, 75.4, 79.9]\n",
    "test_scores = [75.8, 73.4, 75.9, 76.5]"
   ]
  },
  {
   "cell_type": "code",
   "execution_count": 115,
   "metadata": {},
   "outputs": [
    {
     "data": {
      "image/png": "[encoded data removed]",
      "text/plain": [
       "<Figure size 864x432 with 1 Axes>"
      ]
     },
     "metadata": {
      "needs_background": "light"
     },
     "output_type": "display_data"
    }
   ],
   "source": [
    "fig = plt.figure(figsize = (12, 6))\n",
    "\n",
    "X_axis = np.arange(len(labels))\n",
    "  \n",
    "plt.bar(X_axis - 0.2, train_scores, 0.4, label = 'Train')\n",
    "plt.bar(X_axis + 0.2, test_scores, 0.4, label = 'Test')\n",
    "  \n",
    "plt.xticks(X_axis, labels)\n",
    "plt.xlabel(\"Set\")\n",
    "plt.ylabel(\"Scores\")\n",
    "plt.title(\"Training and Test Set scores for each Model\")\n",
    "plt.legend()\n",
    "plt.show()"
   ]
  },
  {
   "cell_type": "markdown",
   "metadata": {},
   "source": [
    "## Testing Dropping Sector and Beat"
   ]
  },
  {
   "cell_type": "code",
   "execution_count": 164,
   "metadata": {},
   "outputs": [],
   "source": [
    "loc = ['Sector', 'Beat']\n",
    "df = df.drop(loc, axis=1)"
   ]
  },
  {
   "cell_type": "code",
   "execution_count": 165,
   "metadata": {},
   "outputs": [],
   "source": [
    "#obtain dummies\n",
    "dummy_df = pd.get_dummies(df, drop_first=True)"
   ]
  },
  {
   "cell_type": "code",
   "execution_count": 166,
   "metadata": {},
   "outputs": [],
   "source": [
    "# Data X and Y\n",
    "\n",
    "y = dummy_df['Stop Resolution']\n",
    "X = dummy_df.drop('Stop Resolution', axis=1)"
   ]
  },
  {
   "cell_type": "code",
   "execution_count": 167,
   "metadata": {},
   "outputs": [],
   "source": [
    "# Split the data\n",
    "X_train, X_test, y_train, y_test = train_test_split(X, y, random_state=123, test_size = .25)"
   ]
  },
  {
   "cell_type": "code",
   "execution_count": 168,
   "metadata": {},
   "outputs": [
    {
     "name": "stdout",
     "output_type": "stream",
     "text": [
      "Test Classification Report\n",
      "              precision    recall  f1-score   support\n",
      "\n",
      "           0       0.78      0.96      0.86     10170\n",
      "           1       0.50      0.13      0.21      3226\n",
      "\n",
      "    accuracy                           0.76     13396\n",
      "   macro avg       0.64      0.54      0.53     13396\n",
      "weighted avg       0.71      0.76      0.70     13396\n",
      "\n",
      "================================================\n",
      "Train Classification Report\n",
      "              precision    recall  f1-score   support\n",
      "\n",
      "           0       0.79      0.98      0.88     30295\n",
      "           1       0.77      0.22      0.34      9892\n",
      "\n",
      "    accuracy                           0.79     40187\n",
      "   macro avg       0.78      0.60      0.61     40187\n",
      "weighted avg       0.79      0.79      0.74     40187\n",
      "\n",
      "================================================\n",
      "Train Score:  0.7914499713837808\n",
      "================================================\n",
      "Test Score:  0.7591818453269633\n",
      "================================================\n"
     ]
    }
   ],
   "source": [
    "#Instantiate the classifier\n",
    "xgb_clf = XGBClassifier()\n",
    "\n",
    "# fit the classifier\n",
    "xgb_clf.fit(X_train, y_train)\n",
    "\n",
    "#Train Scores\n",
    "train_preds = xgb_clf.predict(X_train)\n",
    "\n",
    "#Test Scores\n",
    "test_preds = xgb_clf.predict(X_test)\n",
    "\n",
    "#classification report\n",
    "print('Test Classification Report')\n",
    "print(classification_report(y_test, test_preds))\n",
    "print('================================================')\n",
    "print('Train Classification Report')\n",
    "print(classification_report(y_train, train_preds))\n",
    "print('================================================')\n",
    "print('Train Score: ', xgb_clf.score(X_train, y_train))\n",
    "print('================================================')\n",
    "print('Test Score: ', xgb_clf.score(X_test, y_test))\n",
    "print('================================================')\n"
   ]
  },
  {
   "cell_type": "code",
   "execution_count": null,
   "metadata": {},
   "outputs": [],
   "source": []
  },
  {
   "cell_type": "code",
   "execution_count": 169,
   "metadata": {},
   "outputs": [],
   "source": [
    "#Obtain the feature importance and convert to a dataframe\n",
    "feature_importance = pd.DataFrame(xgb_clf.feature_importances_)\n",
    "feature_importance = feature_importance.T\n",
    "feature_importance.columns = X_train.columns"
   ]
  },
  {
   "cell_type": "code",
   "execution_count": 170,
   "metadata": {},
   "outputs": [
    {
     "data": {
      "text/html": [
       "<div>\n",
       "<style scoped>\n",
       "    .dataframe tbody tr th:only-of-type {\n",
       "        vertical-align: middle;\n",
       "    }\n",
       "\n",
       "    .dataframe tbody tr th {\n",
       "        vertical-align: top;\n",
       "    }\n",
       "\n",
       "    .dataframe thead th {\n",
       "        text-align: right;\n",
       "    }\n",
       "</style>\n",
       "<table border=\"1\" class=\"dataframe\">\n",
       "  <thead>\n",
       "    <tr style=\"text-align: right;\">\n",
       "      <th></th>\n",
       "      <th>0</th>\n",
       "    </tr>\n",
       "  </thead>\n",
       "  <tbody>\n",
       "    <tr>\n",
       "      <th>Precinct_Unknown</th>\n",
       "      <td>0.518681</td>\n",
       "    </tr>\n",
       "    <tr>\n",
       "      <th>Frisk Flag_Y</th>\n",
       "      <td>0.031207</td>\n",
       "    </tr>\n",
       "    <tr>\n",
       "      <th>Call Type_911</th>\n",
       "      <td>0.027104</td>\n",
       "    </tr>\n",
       "    <tr>\n",
       "      <th>Frisk Flag_N</th>\n",
       "      <td>0.023215</td>\n",
       "    </tr>\n",
       "    <tr>\n",
       "      <th>Subject Perceived Race_Unknown</th>\n",
       "      <td>0.020606</td>\n",
       "    </tr>\n",
       "    <tr>\n",
       "      <th>Weapon Type_None</th>\n",
       "      <td>0.018367</td>\n",
       "    </tr>\n",
       "    <tr>\n",
       "      <th>Precinct_North</th>\n",
       "      <td>0.014847</td>\n",
       "    </tr>\n",
       "    <tr>\n",
       "      <th>Call Type_ONVIEW</th>\n",
       "      <td>0.014774</td>\n",
       "    </tr>\n",
       "    <tr>\n",
       "      <th>Call Type_TELEPHONE OTHER, NOT 911</th>\n",
       "      <td>0.012664</td>\n",
       "    </tr>\n",
       "    <tr>\n",
       "      <th>Precinct_Southwest</th>\n",
       "      <td>0.011894</td>\n",
       "    </tr>\n",
       "    <tr>\n",
       "      <th>Officer Age Group_56 and Above</th>\n",
       "      <td>0.011363</td>\n",
       "    </tr>\n",
       "    <tr>\n",
       "      <th>Precinct_West</th>\n",
       "      <td>0.011247</td>\n",
       "    </tr>\n",
       "    <tr>\n",
       "      <th>Weapon Type_Lethal Cutting Instrument</th>\n",
       "      <td>0.011099</td>\n",
       "    </tr>\n",
       "    <tr>\n",
       "      <th>Officer Age Group_26 - 35</th>\n",
       "      <td>0.011056</td>\n",
       "    </tr>\n",
       "    <tr>\n",
       "      <th>Subject Age Group_56 and Above</th>\n",
       "      <td>0.010050</td>\n",
       "    </tr>\n",
       "    <tr>\n",
       "      <th>Subject Age Group_18 - 25</th>\n",
       "      <td>0.009953</td>\n",
       "    </tr>\n",
       "    <tr>\n",
       "      <th>Officer Race_Unknown</th>\n",
       "      <td>0.009817</td>\n",
       "    </tr>\n",
       "    <tr>\n",
       "      <th>Officer Age Group_46 - 55</th>\n",
       "      <td>0.009809</td>\n",
       "    </tr>\n",
       "    <tr>\n",
       "      <th>Officer Race_White</th>\n",
       "      <td>0.009721</td>\n",
       "    </tr>\n",
       "    <tr>\n",
       "      <th>Officer Age Group_36 - 45</th>\n",
       "      <td>0.009255</td>\n",
       "    </tr>\n",
       "    <tr>\n",
       "      <th>day/night_night</th>\n",
       "      <td>0.009114</td>\n",
       "    </tr>\n",
       "    <tr>\n",
       "      <th>Officer Race_Two or More Races</th>\n",
       "      <td>0.009039</td>\n",
       "    </tr>\n",
       "    <tr>\n",
       "      <th>Subject Age Group_46 - 55</th>\n",
       "      <td>0.008714</td>\n",
       "    </tr>\n",
       "    <tr>\n",
       "      <th>Officer Gender_M</th>\n",
       "      <td>0.008693</td>\n",
       "    </tr>\n",
       "    <tr>\n",
       "      <th>Officer Race_Black or African American</th>\n",
       "      <td>0.008500</td>\n",
       "    </tr>\n",
       "    <tr>\n",
       "      <th>Weapon Type_Firearm</th>\n",
       "      <td>0.008151</td>\n",
       "    </tr>\n",
       "    <tr>\n",
       "      <th>Subject Age Group_1 - 17</th>\n",
       "      <td>0.008102</td>\n",
       "    </tr>\n",
       "    <tr>\n",
       "      <th>Week</th>\n",
       "      <td>0.008046</td>\n",
       "    </tr>\n",
       "    <tr>\n",
       "      <th>Subject Age Group_26 - 35</th>\n",
       "      <td>0.007999</td>\n",
       "    </tr>\n",
       "    <tr>\n",
       "      <th>Subject Perceived Gender_Male</th>\n",
       "      <td>0.007833</td>\n",
       "    </tr>\n",
       "    <tr>\n",
       "      <th>Precinct_South</th>\n",
       "      <td>0.007781</td>\n",
       "    </tr>\n",
       "    <tr>\n",
       "      <th>Subject Age Group_36 - 45</th>\n",
       "      <td>0.007677</td>\n",
       "    </tr>\n",
       "    <tr>\n",
       "      <th>Month</th>\n",
       "      <td>0.007634</td>\n",
       "    </tr>\n",
       "    <tr>\n",
       "      <th>Subject Perceived Race_Asian</th>\n",
       "      <td>0.007629</td>\n",
       "    </tr>\n",
       "    <tr>\n",
       "      <th>Subject Perceived Race_Hispanic</th>\n",
       "      <td>0.007433</td>\n",
       "    </tr>\n",
       "    <tr>\n",
       "      <th>Officer Race_Nat Hawaiian/Oth Pac Islander</th>\n",
       "      <td>0.007325</td>\n",
       "    </tr>\n",
       "    <tr>\n",
       "      <th>Precinct_OOJ</th>\n",
       "      <td>0.007271</td>\n",
       "    </tr>\n",
       "    <tr>\n",
       "      <th>Subject Perceived Race_White</th>\n",
       "      <td>0.007160</td>\n",
       "    </tr>\n",
       "    <tr>\n",
       "      <th>Subject Perceived Race_Multi-Racial</th>\n",
       "      <td>0.007050</td>\n",
       "    </tr>\n",
       "    <tr>\n",
       "      <th>Officer Race_Asian</th>\n",
       "      <td>0.006969</td>\n",
       "    </tr>\n",
       "    <tr>\n",
       "      <th>Officer Race_Hispanic or Latino</th>\n",
       "      <td>0.006965</td>\n",
       "    </tr>\n",
       "    <tr>\n",
       "      <th>Subject Perceived Race_Black or African American</th>\n",
       "      <td>0.006623</td>\n",
       "    </tr>\n",
       "    <tr>\n",
       "      <th>Subject Perceived Gender_Unknown</th>\n",
       "      <td>0.005948</td>\n",
       "    </tr>\n",
       "    <tr>\n",
       "      <th>Call Type_ALARM CALL (NOT POLICE ALARM)</th>\n",
       "      <td>0.004943</td>\n",
       "    </tr>\n",
       "    <tr>\n",
       "      <th>Call Type_TEXT MESSAGE</th>\n",
       "      <td>0.004846</td>\n",
       "    </tr>\n",
       "    <tr>\n",
       "      <th>Subject Perceived Gender_Gender Diverse (gender non-conforming and/or transgender)</th>\n",
       "      <td>0.004336</td>\n",
       "    </tr>\n",
       "    <tr>\n",
       "      <th>Subject Perceived Race_Other</th>\n",
       "      <td>0.003999</td>\n",
       "    </tr>\n",
       "    <tr>\n",
       "      <th>Weapon Type_Other</th>\n",
       "      <td>0.003803</td>\n",
       "    </tr>\n",
       "    <tr>\n",
       "      <th>Subject Perceived Race_Native Hawaiian or Other Pacific Islander</th>\n",
       "      <td>0.003688</td>\n",
       "    </tr>\n",
       "    <tr>\n",
       "      <th>Call Type_SCHEDULED EVENT (RECURRING)</th>\n",
       "      <td>0.000000</td>\n",
       "    </tr>\n",
       "  </tbody>\n",
       "</table>\n",
       "</div>"
      ],
      "text/plain": [
       "                                                           0\n",
       "Precinct_Unknown                                    0.518681\n",
       "Frisk Flag_Y                                        0.031207\n",
       "Call Type_911                                       0.027104\n",
       "Frisk Flag_N                                        0.023215\n",
       "Subject Perceived Race_Unknown                      0.020606\n",
       "Weapon Type_None                                    0.018367\n",
       "Precinct_North                                      0.014847\n",
       "Call Type_ONVIEW                                    0.014774\n",
       "Call Type_TELEPHONE OTHER, NOT 911                  0.012664\n",
       "Precinct_Southwest                                  0.011894\n",
       "Officer Age Group_56 and Above                      0.011363\n",
       "Precinct_West                                       0.011247\n",
       "Weapon Type_Lethal Cutting Instrument               0.011099\n",
       "Officer Age Group_26 - 35                           0.011056\n",
       "Subject Age Group_56 and Above                      0.010050\n",
       "Subject Age Group_18 - 25                           0.009953\n",
       "Officer Race_Unknown                                0.009817\n",
       "Officer Age Group_46 - 55                           0.009809\n",
       "Officer Race_White                                  0.009721\n",
       "Officer Age Group_36 - 45                           0.009255\n",
       "day/night_night                                     0.009114\n",
       "Officer Race_Two or More Races                      0.009039\n",
       "Subject Age Group_46 - 55                           0.008714\n",
       "Officer Gender_M                                    0.008693\n",
       "Officer Race_Black or African American              0.008500\n",
       "Weapon Type_Firearm                                 0.008151\n",
       "Subject Age Group_1 - 17                            0.008102\n",
       "Week                                                0.008046\n",
       "Subject Age Group_26 - 35                           0.007999\n",
       "Subject Perceived Gender_Male                       0.007833\n",
       "Precinct_South                                      0.007781\n",
       "Subject Age Group_36 - 45                           0.007677\n",
       "Month                                               0.007634\n",
       "Subject Perceived Race_Asian                        0.007629\n",
       "Subject Perceived Race_Hispanic                     0.007433\n",
       "Officer Race_Nat Hawaiian/Oth Pac Islander          0.007325\n",
       "Precinct_OOJ                                        0.007271\n",
       "Subject Perceived Race_White                        0.007160\n",
       "Subject Perceived Race_Multi-Racial                 0.007050\n",
       "Officer Race_Asian                                  0.006969\n",
       "Officer Race_Hispanic or Latino                     0.006965\n",
       "Subject Perceived Race_Black or African American    0.006623\n",
       "Subject Perceived Gender_Unknown                    0.005948\n",
       "Call Type_ALARM CALL (NOT POLICE ALARM)             0.004943\n",
       "Call Type_TEXT MESSAGE                              0.004846\n",
       "Subject Perceived Gender_Gender Diverse (gender...  0.004336\n",
       "Subject Perceived Race_Other                        0.003999\n",
       "Weapon Type_Other                                   0.003803\n",
       "Subject Perceived Race_Native Hawaiian or Other...  0.003688\n",
       "Call Type_SCHEDULED EVENT (RECURRING)               0.000000"
      ]
     },
     "execution_count": 170,
     "metadata": {},
     "output_type": "execute_result"
    }
   ],
   "source": [
    "#Sort and print feature importance, just a check\n",
    "feature_importance.T.sort_values(0, ascending=False)"
   ]
  },
  {
   "cell_type": "code",
   "execution_count": 171,
   "metadata": {},
   "outputs": [],
   "source": [
    "# Consolidate dummy importance values into a single value for the original columns\n",
    "\n",
    "importance_consolidated = pd.DataFrame(np.zeros(df.columns.size))\n",
    "importance_consolidated = importance_consolidated.T\n",
    "importance_consolidated.columns = df.columns\n",
    "\n",
    "for con_col in importance_consolidated.columns:\n",
    "    for feat_col in feature_importance.columns:\n",
    "        if con_col in feat_col:\n",
    "            importance_consolidated[con_col] += feature_importance[feat_col]\n",
    "\n",
    "importance_consolidated.drop('Stop Resolution', axis=1, inplace=True)"
   ]
  },
  {
   "cell_type": "code",
   "execution_count": 172,
   "metadata": {},
   "outputs": [
    {
     "data": {
      "text/html": [
       "<div>\n",
       "<style scoped>\n",
       "    .dataframe tbody tr th:only-of-type {\n",
       "        vertical-align: middle;\n",
       "    }\n",
       "\n",
       "    .dataframe tbody tr th {\n",
       "        vertical-align: top;\n",
       "    }\n",
       "\n",
       "    .dataframe thead th {\n",
       "        text-align: right;\n",
       "    }\n",
       "</style>\n",
       "<table border=\"1\" class=\"dataframe\">\n",
       "  <thead>\n",
       "    <tr style=\"text-align: right;\">\n",
       "      <th></th>\n",
       "      <th>Subject Age Group</th>\n",
       "      <th>Weapon Type</th>\n",
       "      <th>Officer Gender</th>\n",
       "      <th>Officer Race</th>\n",
       "      <th>Subject Perceived Race</th>\n",
       "      <th>Subject Perceived Gender</th>\n",
       "      <th>Call Type</th>\n",
       "      <th>Frisk Flag</th>\n",
       "      <th>Precinct</th>\n",
       "      <th>Month</th>\n",
       "      <th>Week</th>\n",
       "      <th>day/night</th>\n",
       "      <th>Officer Age Group</th>\n",
       "    </tr>\n",
       "  </thead>\n",
       "  <tbody>\n",
       "    <tr>\n",
       "      <th>0</th>\n",
       "      <td>0.052496</td>\n",
       "      <td>0.04142</td>\n",
       "      <td>0.008693</td>\n",
       "      <td>0.058335</td>\n",
       "      <td>0.064188</td>\n",
       "      <td>0.018117</td>\n",
       "      <td>0.064331</td>\n",
       "      <td>0.054423</td>\n",
       "      <td>0.571719</td>\n",
       "      <td>0.007634</td>\n",
       "      <td>0.008046</td>\n",
       "      <td>0.009114</td>\n",
       "      <td>0.041484</td>\n",
       "    </tr>\n",
       "  </tbody>\n",
       "</table>\n",
       "</div>"
      ],
      "text/plain": [
       "   Subject Age Group  Weapon Type  Officer Gender  Officer Race  \\\n",
       "0           0.052496      0.04142        0.008693      0.058335   \n",
       "\n",
       "   Subject Perceived Race  Subject Perceived Gender  Call Type  Frisk Flag  \\\n",
       "0                0.064188                  0.018117   0.064331    0.054423   \n",
       "\n",
       "   Precinct     Month      Week  day/night  Officer Age Group  \n",
       "0  0.571719  0.007634  0.008046   0.009114           0.041484  "
      ]
     },
     "execution_count": 172,
     "metadata": {},
     "output_type": "execute_result"
    }
   ],
   "source": [
    "#Print check\n",
    "importance_consolidated"
   ]
  },
  {
   "cell_type": "code",
   "execution_count": 173,
   "metadata": {},
   "outputs": [],
   "source": [
    "#Setup for plotting, need values in different format\n",
    "values = importance_consolidated.T\n",
    "values = values[0].sort_values(0, ascending=False)"
   ]
  },
  {
   "cell_type": "code",
   "execution_count": 174,
   "metadata": {},
   "outputs": [],
   "source": [
    "#Setup for plotting, need indices in different format\n",
    "ticks = importance_consolidated.T\n",
    "ticks = ticks[0].sort_values(0, ascending=False).index"
   ]
  },
  {
   "cell_type": "code",
   "execution_count": 175,
   "metadata": {
    "scrolled": false
   },
   "outputs": [
    {
     "data": {
      "image/png": "[encoded data removed]",
      "text/plain": [
       "<Figure size 1152x576 with 1 Axes>"
      ]
     },
     "metadata": {
      "needs_background": "light"
     },
     "output_type": "display_data"
    }
   ],
   "source": [
    "#plot the features\n",
    "fig = plt.figure(figsize = (16, 8))\n",
    "plt.bar(x = ticks, \n",
    "       height = values)\n",
    "plt.xticks(rotation=60)\n",
    "plt.xlabel('Features')\n",
    "plt.ylabel('Feature Importance')\n",
    "plt.title('Features Sorted by Importance');"
   ]
  },
  {
   "cell_type": "code",
   "execution_count": null,
   "metadata": {},
   "outputs": [],
   "source": []
  }
 ],
 "metadata": {
  "kernelspec": {
   "display_name": "Python (learn-env)",
   "language": "python",
   "name": "learn-env"
  },
  "language_info": {
   "codemirror_mode": {
    "name": "ipython",
    "version": 3
   },
   "file_extension": ".py",
   "mimetype": "text/x-python",
   "name": "python",
   "nbconvert_exporter": "python",
   "pygments_lexer": "ipython3",
   "version": "3.8.5"
  }
 },
 "nbformat": 4,
 "nbformat_minor": 4
}
